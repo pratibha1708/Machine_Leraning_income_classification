{
 "cells": [
  {
   "cell_type": "code",
   "execution_count": 245,
   "id": "9820f0aa",
   "metadata": {},
   "outputs": [],
   "source": [
    "import pandas as pd\n",
    "import numpy as np\n",
    "import matplotlib.pyplot as plt\n",
    "from sklearn.metrics import confusion_matrix\n",
    "from sklearn.metrics import classification_report\n",
    "from sklearn.preprocessing import StandardScaler\n",
    "import seaborn as sns\n",
    "import pickle\n",
    "import joblib"
   ]
  },
  {
   "cell_type": "markdown",
   "id": "571c2e63",
   "metadata": {},
   "source": [
    "Importing the trained and test sets and separating their final weight."
   ]
  },
  {
   "cell_type": "code",
   "execution_count": 246,
   "id": "8fa268f2",
   "metadata": {},
   "outputs": [],
   "source": [
    "train = pd.read_csv('./train.csv')\n",
    "test = pd.read_csv('./test.csv')\n",
    "final_weight_train = train[\"Final Weight\"]\n",
    "x_train = train.drop(columns = ['Income', 'Final Weight'])\n",
    "y_train = train['Income']\n",
    "\n",
    "final_weight_test = test[\"Final Weight\"]\n",
    "x_test = test.drop(columns = ['Income', 'Final Weight'])\n",
    "y_test = test['Income']"
   ]
  },
  {
   "cell_type": "markdown",
   "id": "34e67c07",
   "metadata": {},
   "source": [
    "Importing the trained, tuned models and using them to make predictions on the test set. (Decison Tree, CategoricalNB)"
   ]
  },
  {
   "cell_type": "code",
   "execution_count": 247,
   "id": "e0947089",
   "metadata": {},
   "outputs": [
    {
     "name": "stderr",
     "output_type": "stream",
     "text": [
      "/opt/anaconda3/lib/python3.9/site-packages/sklearn/base.py:310: UserWarning: Trying to unpickle estimator DecisionTreeClassifier from version 1.0.2 when using version 0.24.2. This might lead to breaking code or invalid results. Use at your own risk.\n",
      "  warnings.warn(\n"
     ]
    }
   ],
   "source": [
    "# Decision Tree\n",
    "tuned_model_dt = joblib.load('dt.pkl')\n",
    "y_pred_test_dt = tuned_model_dt.predict(x_test)\n",
    "\n",
    "#CategoricalNB\n",
    "tuned_model_cnb = joblib.load('bayes.pkl')\n",
    "y_pred_test_cnb = tuned_model_cnb.predict(x_test)"
   ]
  },
  {
   "cell_type": "markdown",
   "id": "22308fc7",
   "metadata": {},
   "source": [
    "Standardize the data for neural networks and KNN as they are sensitive to feature scaling"
   ]
  },
  {
   "cell_type": "code",
   "execution_count": 248,
   "id": "83d31c90",
   "metadata": {},
   "outputs": [],
   "source": [
    "stds = StandardScaler()\n",
    "stds.fit(x_train)\n",
    "x_train = stds.transform(x_train)\n",
    "x_test = stds.transform(x_test)"
   ]
  },
  {
   "cell_type": "markdown",
   "id": "8b1594b0",
   "metadata": {},
   "source": [
    "Importing tuned and trained neural MLP and KNN classifiers and using them to predict the target variable"
   ]
  },
  {
   "cell_type": "code",
   "execution_count": 249,
   "id": "3ccbd7b6",
   "metadata": {},
   "outputs": [
    {
     "name": "stderr",
     "output_type": "stream",
     "text": [
      "/opt/anaconda3/lib/python3.9/site-packages/sklearn/base.py:310: UserWarning: Trying to unpickle estimator LabelBinarizer from version 1.0.2 when using version 0.24.2. This might lead to breaking code or invalid results. Use at your own risk.\n",
      "  warnings.warn(\n",
      "/opt/anaconda3/lib/python3.9/site-packages/sklearn/base.py:310: UserWarning: Trying to unpickle estimator MLPClassifier from version 1.0.2 when using version 0.24.2. This might lead to breaking code or invalid results. Use at your own risk.\n",
      "  warnings.warn(\n"
     ]
    }
   ],
   "source": [
    "#MLP\n",
    "with open('mlp.obj', 'rb') as f:\n",
    "    tuned_model_mlp = pickle.load(f)\n",
    "y_pred_test_mlp = tuned_model_mlp.predict(x_test)\n",
    "#KNN\n",
    "tuned_model_knn = joblib.load('knn.pkl')\n",
    "y_pred_test_knn = tuned_model_knn.predict(x_test)"
   ]
  },
  {
   "cell_type": "markdown",
   "id": "5830faac",
   "metadata": {},
   "source": [
    "# Stacking"
   ]
  },
  {
   "cell_type": "markdown",
   "id": "f5a1316d",
   "metadata": {},
   "source": [
    "getting the hard mode voting predicted result based on the predicted output of the other 4 base models"
   ]
  },
  {
   "cell_type": "code",
   "execution_count": null,
   "id": "2c6ce56f",
   "metadata": {},
   "outputs": [],
   "source": [
    "y_pred_test_stacking =[]#predicted result will be put into the list\n",
    "for i in range(len(y_pred_test_dt)):\n",
    "    final = []#totally 9035 final lists for adding predicted result (0 or 1) from dt, knn, cnb and mlp\n",
    "    final.append(y_pred_test_dt[i])#append each predicted result of decision tree\n",
    "    final.append(y_pred_test_knn[i])#append each predicted result of k nearest neighbor\n",
    "    final.append(y_pred_test_cnb[i])#append each predicted result of categoricalNB\n",
    "    final.append(y_pred_test_mlp[i])#append each predicted result of neural networks\n",
    "#getting the mode of predicted result of 4 algorithms, and add the mode value to be the predicted result for hard voting\n",
    "    if final.count(1) < final.count(0):\n",
    "        y_pred_test_stacking.append(0)\n",
    "    else:\n",
    "        y_pred_test_stacking.append(1)"
   ]
  },
  {
   "cell_type": "markdown",
   "id": "ce076ce3",
   "metadata": {},
   "source": [
    "Predicting output of Income on testing set."
   ]
  },
  {
   "cell_type": "code",
   "execution_count": null,
   "id": "de483c40",
   "metadata": {},
   "outputs": [],
   "source": [
    "y_pred_test_stacking = np.array(y_pred_test_stacking)\n",
    "\n",
    "confusion_matrix = confusion_matrix(y_test,y_pred_test_stacking)"
   ]
  },
  {
   "cell_type": "markdown",
   "id": "87277f56",
   "metadata": {},
   "source": [
    "https://vitalflux.com/python-draw-confusion-matrix-matplotlib/\n",
    "- reference for making the confusion matrix"
   ]
  },
  {
   "cell_type": "code",
   "execution_count": null,
   "id": "4356ecbb",
   "metadata": {},
   "outputs": [
    {
     "data": {
      "image/png": "[encoded data removed]",
      "text/plain": [
       "<Figure size 540x540 with 1 Axes>"
      ]
     },
     "metadata": {
      "needs_background": "light"
     },
     "output_type": "display_data"
    }
   ],
   "source": [
    "fig, ax = plt.subplots(figsize=(7.5, 7.5))\n",
    "ax.matshow(confusion_matrix, cmap=plt.cm.Blues, alpha=0.3)\n",
    "for i in range(confusion_matrix.shape[0]):\n",
    "    for j in range(confusion_matrix.shape[1]):\n",
    "        ax.text(x=j, y=i,s=confusion_matrix[i, j], va='center', ha='center', size='xx-large')\n",
    " \n",
    "plt.xlabel('Predictions', fontsize=18)\n",
    "plt.ylabel('True Label', fontsize=18)\n",
    "plt.title('Test Confusion Matrix for Stacked Model', fontsize=18)\n",
    "plt.show()"
   ]
  },
  {
   "cell_type": "code",
   "execution_count": null,
   "id": "7a5c2194",
   "metadata": {},
   "outputs": [
    {
     "name": "stdout",
     "output_type": "stream",
     "text": [
      "              precision    recall  f1-score   support\n",
      "\n",
      "           0       0.89      0.92      0.91      6795\n",
      "           1       0.72      0.67      0.70      2240\n",
      "\n",
      "    accuracy                           0.86      9035\n",
      "   macro avg       0.81      0.79      0.80      9035\n",
      "weighted avg       0.85      0.86      0.85      9035\n",
      "\n"
     ]
    }
   ],
   "source": [
    "print(classification_report(y_test, y_pred_test_stacking))"
   ]
  },
  {
   "cell_type": "markdown",
   "id": "61120542",
   "metadata": {},
   "source": [
    "Creating a function that returns a classification report on the minority class with taking the weight of each row into account in order to produce a more accurate classification report."
   ]
  },
  {
   "cell_type": "code",
   "execution_count": null,
   "id": "6021f60a",
   "metadata": {},
   "outputs": [],
   "source": [
    "#precision = true_positive / (true_positive + false_positive)\n",
    "#Recall = true_positive / (true_positive + false_negative)\n",
    "#f1= (2 * precision * recall) / (precision + recall)\n",
    "\n",
    "def calculate_weighted_classification(final_weight, y_pred_income, y_actual):\n",
    "    df = pd.DataFrame(final_weight)\n",
    "    df[\"Predicted_Income\"] = y_pred_income\n",
    "    df[\"Actual_Income\"] = y_actual\n",
    "    true_positive = 0\n",
    "    false_negatives = 0\n",
    "    false_positive = 0\n",
    "    for i in range(len(df)):\n",
    "        actual_income = df.iloc[i][\"Actual_Income\"]\n",
    "        predicted_income = df.iloc[i][\"Predicted_Income\"]\n",
    "        final_weight = df.iloc[i][\"Final Weight\"]\n",
    "        if actual_income == 1 and predicted_income == 1:\n",
    "            true_positive += final_weight\n",
    "        elif actual_income == 1 and predicted_income == 0:\n",
    "            false_negatives += final_weight\n",
    "        elif actual_income == 0 and predicted_income == 1:\n",
    "            false_positive += final_weight\n",
    "    precision = true_positive / (true_positive + false_positive)\n",
    "    recall = true_positive / (true_positive + false_negatives)\n",
    "    f1= (2 * precision * recall) / (precision + recall)\n",
    "    return precision, recall, f1"
   ]
  },
  {
   "cell_type": "markdown",
   "id": "56fe6615",
   "metadata": {},
   "source": [
    "<h4>Calculating the precision, recall and f1 scores for the minority class accounting for the final weight of each row.</h4>"
   ]
  },
  {
   "cell_type": "markdown",
   "id": "b3e285fe",
   "metadata": {},
   "source": [
    "Stacked Model:"
   ]
  },
  {
   "cell_type": "code",
   "execution_count": null,
   "id": "22c93a43",
   "metadata": {},
   "outputs": [
    {
     "name": "stdout",
     "output_type": "stream",
     "text": [
      "Classification report for minority class using the Stacked Model:\n",
      "Weighted Precision: 0.739504165579235\n",
      "Weighted Recall: 0.6764855593441129\n",
      "Weighted F1 Score: 0.7065925412929831\n"
     ]
    }
   ],
   "source": [
    "precision_stacked, recall_stacked, f1_stacked = calculate_weighted_classification(final_weight_test, y_pred_test_stacking, y_test)\n",
    "print('Classification report for minority class using the Stacked Model:')\n",
    "print(f\"Weighted Precision: {precision_stacked}\")\n",
    "print(f\"Weighted Recall: {recall_stacked}\")\n",
    "print(f\"Weighted F1 Score: {f1_stacked}\")"
   ]
  },
  {
   "cell_type": "markdown",
   "id": "4b75e376",
   "metadata": {},
   "source": [
    "Decision Trees"
   ]
  },
  {
   "cell_type": "code",
   "execution_count": null,
   "id": "7dd3aed9",
   "metadata": {},
   "outputs": [
    {
     "name": "stdout",
     "output_type": "stream",
     "text": [
      "Classification report for minority class using the Decision Tree Model\n",
      "Weighted Precision: 0.762934310944565\n",
      "Weighted Recall: 0.6255359907647139\n",
      "Weighted F1 Score: 0.6874369145635915\n"
     ]
    }
   ],
   "source": [
    "precision_dt, recall_dt, f1_dt = calculate_weighted_classification(final_weight_test, y_pred_test_dt, y_test)\n",
    "print('Classification report for minority class using the Decision Tree Model')\n",
    "print(f\"Weighted Precision: {precision_dt}\")\n",
    "print(f\"Weighted Recall: {recall_dt}\")\n",
    "print(f\"Weighted F1 Score: {f1_dt}\")"
   ]
  },
  {
   "cell_type": "markdown",
   "id": "e4b127ce",
   "metadata": {},
   "source": [
    "KNN:"
   ]
  },
  {
   "cell_type": "code",
   "execution_count": null,
   "id": "0391da3f",
   "metadata": {},
   "outputs": [
    {
     "name": "stdout",
     "output_type": "stream",
     "text": [
      "Classification report for minority class using the KNN Model\n",
      "Weighted Precision: 0.7385557662845931\n",
      "Weighted Recall: 0.5648324722708864\n",
      "Weighted F1 Score: 0.6401166851755185\n"
     ]
    }
   ],
   "source": [
    "precision_knn, recall_knn, f1_knn = calculate_weighted_classification(final_weight_test, y_pred_test_knn, y_test)\n",
    "print('Classification report for minority class using the KNN Model')\n",
    "print(f\"Weighted Precision: {precision_knn}\")\n",
    "print(f\"Weighted Recall: {recall_knn}\")\n",
    "print(f\"Weighted F1 Score: {f1_knn}\")"
   ]
  },
  {
   "cell_type": "markdown",
   "id": "bccd1446",
   "metadata": {},
   "source": [
    "Categorical NB:"
   ]
  },
  {
   "cell_type": "code",
   "execution_count": null,
   "id": "63a1cfbb",
   "metadata": {},
   "outputs": [
    {
     "name": "stdout",
     "output_type": "stream",
     "text": [
      "Classification report for minority class using the Categorical NB Model\n",
      "Weighted Precision: 0.6966371586663492\n",
      "Weighted Recall: 0.6714933624648347\n",
      "Weighted F1 Score: 0.6838342115254388\n"
     ]
    }
   ],
   "source": [
    "precision_cnb, recall_cnb, f1_cnb = calculate_weighted_classification(final_weight_test, y_pred_test_cnb, y_test)\n",
    "print('Classification report for minority class using the Categorical NB Model')\n",
    "print(f\"Weighted Precision: {precision_cnb}\")\n",
    "print(f\"Weighted Recall: {recall_cnb}\")\n",
    "print(f\"Weighted F1 Score: {f1_cnb}\")"
   ]
  },
  {
   "cell_type": "markdown",
   "id": "f5cb1ae0",
   "metadata": {},
   "source": [
    "Neural MLP:"
   ]
  },
  {
   "cell_type": "code",
   "execution_count": null,
   "id": "10337c0d",
   "metadata": {},
   "outputs": [
    {
     "name": "stdout",
     "output_type": "stream",
     "text": [
      "Classification report for minority class using the Neural MLP Model\n",
      "Weighted Precision: 0.7564726083043368\n",
      "Weighted Recall: 0.6371039067155141\n",
      "Weighted F1 Score: 0.6916759128465977\n"
     ]
    }
   ],
   "source": [
    "precision_mlp, recall_mlp, f1_mlp = calculate_weighted_classification(final_weight_test, y_pred_test_mlp, y_test)\n",
    "print('Classification report for minority class using the Neural MLP Model')\n",
    "print(f\"Weighted Precision: {precision_mlp}\")\n",
    "print(f\"Weighted Recall: {recall_mlp}\")\n",
    "print(f\"Weighted F1 Score: {f1_mlp}\")"
   ]
  },
  {
   "cell_type": "markdown",
   "id": "08a32fc3",
   "metadata": {},
   "source": [
    "A visual representation of the performance of each algorithm at classifying the minority class."
   ]
  },
  {
   "cell_type": "code",
   "execution_count": null,
   "id": "9bc92630",
   "metadata": {},
   "outputs": [
    {
     "data": {
      "image/png": "[encoded data removed]",
      "text/plain": [
       "<Figure size 432x288 with 1 Axes>"
      ]
     },
     "metadata": {
      "needs_background": "light"
     },
     "output_type": "display_data"
    }
   ],
   "source": [
    "leaners = ['DT','KNN','CNB','MLP', 'Stacked']\n",
    "weighted_f1_score = [f1_dt,f1_knn,f1_cnb,f1_mlp,f1_stacked]\n",
    "\n",
    "plt.bar(leaners, weighted_f1_score)\n",
    "plt.title('Minority class F-1 score comparison of each learning model')\n",
    "plt.xlabel('Models')\n",
    "plt.ylabel('Weighted F-1 score of minority class')\n",
    "plt.ylim(0.6,0.72)\n",
    "plt.show()"
   ]
  }
 ],
 "metadata": {
  "kernelspec": {
   "display_name": "Python 3 (ipykernel)",
   "language": "python",
   "name": "python3"
  },
  "language_info": {
   "codemirror_mode": {
    "name": "ipython",
    "version": 3
   },
   "file_extension": ".py",
   "mimetype": "text/x-python",
   "name": "python",
   "nbconvert_exporter": "python",
   "pygments_lexer": "ipython3",
   "version": "3.9.7"
  }
 },
 "nbformat": 4,
 "nbformat_minor": 5
}
