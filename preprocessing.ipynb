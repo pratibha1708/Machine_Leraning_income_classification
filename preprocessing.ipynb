{
 "cells": [
  {
   "cell_type": "markdown",
   "metadata": {},
   "source": [
    "# Adult Dataset\n",
    "\n",
    "### Objective: Predict whether income exceeds $50K/yr based on census data. "
   ]
  },
  {
   "cell_type": "markdown",
   "metadata": {},
   "source": [
    "#### Importing libraries and dataset"
   ]
  },
  {
   "cell_type": "code",
   "execution_count": 49,
   "metadata": {
    "scrolled": true
   },
   "outputs": [
    {
     "data": {
      "text/html": [
       "<div>\n",
       "<style scoped>\n",
       "    .dataframe tbody tr th:only-of-type {\n",
       "        vertical-align: middle;\n",
       "    }\n",
       "\n",
       "    .dataframe tbody tr th {\n",
       "        vertical-align: top;\n",
       "    }\n",
       "\n",
       "    .dataframe thead th {\n",
       "        text-align: right;\n",
       "    }\n",
       "</style>\n",
       "<table border=\"1\" class=\"dataframe\">\n",
       "  <thead>\n",
       "    <tr style=\"text-align: right;\">\n",
       "      <th></th>\n",
       "      <th>Age</th>\n",
       "      <th>Workclass</th>\n",
       "      <th>Final Weight</th>\n",
       "      <th>Education</th>\n",
       "      <th>Education Number of Years</th>\n",
       "      <th>Marital-status</th>\n",
       "      <th>Occupation</th>\n",
       "      <th>Relationship</th>\n",
       "      <th>Race</th>\n",
       "      <th>Sex</th>\n",
       "      <th>Capital-gain</th>\n",
       "      <th>Capital-loss</th>\n",
       "      <th>Hours-per-week</th>\n",
       "      <th>Native-country</th>\n",
       "      <th>Income</th>\n",
       "    </tr>\n",
       "  </thead>\n",
       "  <tbody>\n",
       "    <tr>\n",
       "      <th>7624</th>\n",
       "      <td>43</td>\n",
       "      <td>Federal-gov</td>\n",
       "      <td>203637</td>\n",
       "      <td>Bachelors</td>\n",
       "      <td>13</td>\n",
       "      <td>Married-civ-spouse</td>\n",
       "      <td>Adm-clerical</td>\n",
       "      <td>Husband</td>\n",
       "      <td>White</td>\n",
       "      <td>Male</td>\n",
       "      <td>7298</td>\n",
       "      <td>0</td>\n",
       "      <td>40</td>\n",
       "      <td>United-States</td>\n",
       "      <td>&gt;50K</td>\n",
       "    </tr>\n",
       "    <tr>\n",
       "      <th>1291</th>\n",
       "      <td>63</td>\n",
       "      <td>Self-emp-not-inc</td>\n",
       "      <td>795830</td>\n",
       "      <td>1st-4th</td>\n",
       "      <td>2</td>\n",
       "      <td>Widowed</td>\n",
       "      <td>Other-service</td>\n",
       "      <td>Unmarried</td>\n",
       "      <td>White</td>\n",
       "      <td>Female</td>\n",
       "      <td>0</td>\n",
       "      <td>0</td>\n",
       "      <td>30</td>\n",
       "      <td>El-Salvador</td>\n",
       "      <td>&lt;=50K</td>\n",
       "    </tr>\n",
       "    <tr>\n",
       "      <th>30748</th>\n",
       "      <td>28</td>\n",
       "      <td>Private</td>\n",
       "      <td>119287</td>\n",
       "      <td>Bachelors</td>\n",
       "      <td>13</td>\n",
       "      <td>Married-civ-spouse</td>\n",
       "      <td>Exec-managerial</td>\n",
       "      <td>Wife</td>\n",
       "      <td>White</td>\n",
       "      <td>Female</td>\n",
       "      <td>15024</td>\n",
       "      <td>0</td>\n",
       "      <td>28</td>\n",
       "      <td>United-States</td>\n",
       "      <td>&gt;50K</td>\n",
       "    </tr>\n",
       "    <tr>\n",
       "      <th>12822</th>\n",
       "      <td>18</td>\n",
       "      <td>Private</td>\n",
       "      <td>243240</td>\n",
       "      <td>HS-grad</td>\n",
       "      <td>9</td>\n",
       "      <td>Never-married</td>\n",
       "      <td>Machine-op-inspct</td>\n",
       "      <td>Not-in-family</td>\n",
       "      <td>White</td>\n",
       "      <td>Male</td>\n",
       "      <td>0</td>\n",
       "      <td>0</td>\n",
       "      <td>37</td>\n",
       "      <td>United-States</td>\n",
       "      <td>&lt;=50K</td>\n",
       "    </tr>\n",
       "    <tr>\n",
       "      <th>11066</th>\n",
       "      <td>34</td>\n",
       "      <td>Private</td>\n",
       "      <td>164190</td>\n",
       "      <td>Some-college</td>\n",
       "      <td>10</td>\n",
       "      <td>Married-civ-spouse</td>\n",
       "      <td>Prof-specialty</td>\n",
       "      <td>Husband</td>\n",
       "      <td>White</td>\n",
       "      <td>Male</td>\n",
       "      <td>0</td>\n",
       "      <td>1902</td>\n",
       "      <td>38</td>\n",
       "      <td>United-States</td>\n",
       "      <td>&gt;50K</td>\n",
       "    </tr>\n",
       "    <tr>\n",
       "      <th>7511</th>\n",
       "      <td>68</td>\n",
       "      <td>?</td>\n",
       "      <td>186163</td>\n",
       "      <td>1st-4th</td>\n",
       "      <td>2</td>\n",
       "      <td>Widowed</td>\n",
       "      <td>?</td>\n",
       "      <td>Unmarried</td>\n",
       "      <td>Black</td>\n",
       "      <td>Female</td>\n",
       "      <td>0</td>\n",
       "      <td>0</td>\n",
       "      <td>40</td>\n",
       "      <td>United-States</td>\n",
       "      <td>&lt;=50K</td>\n",
       "    </tr>\n",
       "    <tr>\n",
       "      <th>12813</th>\n",
       "      <td>19</td>\n",
       "      <td>Private</td>\n",
       "      <td>125591</td>\n",
       "      <td>11th</td>\n",
       "      <td>7</td>\n",
       "      <td>Never-married</td>\n",
       "      <td>Other-service</td>\n",
       "      <td>Not-in-family</td>\n",
       "      <td>White</td>\n",
       "      <td>Female</td>\n",
       "      <td>0</td>\n",
       "      <td>0</td>\n",
       "      <td>40</td>\n",
       "      <td>United-States</td>\n",
       "      <td>&lt;=50K</td>\n",
       "    </tr>\n",
       "    <tr>\n",
       "      <th>32302</th>\n",
       "      <td>45</td>\n",
       "      <td>Local-gov</td>\n",
       "      <td>162187</td>\n",
       "      <td>HS-grad</td>\n",
       "      <td>9</td>\n",
       "      <td>Married-civ-spouse</td>\n",
       "      <td>Protective-serv</td>\n",
       "      <td>Husband</td>\n",
       "      <td>White</td>\n",
       "      <td>Male</td>\n",
       "      <td>0</td>\n",
       "      <td>0</td>\n",
       "      <td>40</td>\n",
       "      <td>United-States</td>\n",
       "      <td>&gt;50K</td>\n",
       "    </tr>\n",
       "    <tr>\n",
       "      <th>4584</th>\n",
       "      <td>41</td>\n",
       "      <td>Private</td>\n",
       "      <td>298161</td>\n",
       "      <td>Assoc-voc</td>\n",
       "      <td>11</td>\n",
       "      <td>Divorced</td>\n",
       "      <td>Adm-clerical</td>\n",
       "      <td>Own-child</td>\n",
       "      <td>White</td>\n",
       "      <td>Female</td>\n",
       "      <td>0</td>\n",
       "      <td>0</td>\n",
       "      <td>40</td>\n",
       "      <td>Cuba</td>\n",
       "      <td>&lt;=50K</td>\n",
       "    </tr>\n",
       "    <tr>\n",
       "      <th>23263</th>\n",
       "      <td>27</td>\n",
       "      <td>Private</td>\n",
       "      <td>224849</td>\n",
       "      <td>HS-grad</td>\n",
       "      <td>9</td>\n",
       "      <td>Married-civ-spouse</td>\n",
       "      <td>Craft-repair</td>\n",
       "      <td>Husband</td>\n",
       "      <td>White</td>\n",
       "      <td>Male</td>\n",
       "      <td>0</td>\n",
       "      <td>0</td>\n",
       "      <td>40</td>\n",
       "      <td>United-States</td>\n",
       "      <td>&lt;=50K</td>\n",
       "    </tr>\n",
       "    <tr>\n",
       "      <th>30018</th>\n",
       "      <td>49</td>\n",
       "      <td>Private</td>\n",
       "      <td>31807</td>\n",
       "      <td>Some-college</td>\n",
       "      <td>10</td>\n",
       "      <td>Never-married</td>\n",
       "      <td>Exec-managerial</td>\n",
       "      <td>Unmarried</td>\n",
       "      <td>White</td>\n",
       "      <td>Female</td>\n",
       "      <td>0</td>\n",
       "      <td>0</td>\n",
       "      <td>40</td>\n",
       "      <td>United-States</td>\n",
       "      <td>&lt;=50K</td>\n",
       "    </tr>\n",
       "    <tr>\n",
       "      <th>12977</th>\n",
       "      <td>38</td>\n",
       "      <td>Private</td>\n",
       "      <td>212143</td>\n",
       "      <td>Some-college</td>\n",
       "      <td>10</td>\n",
       "      <td>Married-civ-spouse</td>\n",
       "      <td>Exec-managerial</td>\n",
       "      <td>Wife</td>\n",
       "      <td>White</td>\n",
       "      <td>Female</td>\n",
       "      <td>0</td>\n",
       "      <td>0</td>\n",
       "      <td>35</td>\n",
       "      <td>United-States</td>\n",
       "      <td>&gt;50K</td>\n",
       "    </tr>\n",
       "    <tr>\n",
       "      <th>1164</th>\n",
       "      <td>50</td>\n",
       "      <td>Private</td>\n",
       "      <td>369367</td>\n",
       "      <td>HS-grad</td>\n",
       "      <td>9</td>\n",
       "      <td>Divorced</td>\n",
       "      <td>Adm-clerical</td>\n",
       "      <td>Unmarried</td>\n",
       "      <td>White</td>\n",
       "      <td>Female</td>\n",
       "      <td>0</td>\n",
       "      <td>0</td>\n",
       "      <td>40</td>\n",
       "      <td>United-States</td>\n",
       "      <td>&lt;=50K</td>\n",
       "    </tr>\n",
       "    <tr>\n",
       "      <th>19539</th>\n",
       "      <td>21</td>\n",
       "      <td>Local-gov</td>\n",
       "      <td>212780</td>\n",
       "      <td>12th</td>\n",
       "      <td>8</td>\n",
       "      <td>Never-married</td>\n",
       "      <td>Handlers-cleaners</td>\n",
       "      <td>Unmarried</td>\n",
       "      <td>Black</td>\n",
       "      <td>Female</td>\n",
       "      <td>0</td>\n",
       "      <td>0</td>\n",
       "      <td>20</td>\n",
       "      <td>United-States</td>\n",
       "      <td>&lt;=50K</td>\n",
       "    </tr>\n",
       "    <tr>\n",
       "      <th>10442</th>\n",
       "      <td>20</td>\n",
       "      <td>Private</td>\n",
       "      <td>528616</td>\n",
       "      <td>5th-6th</td>\n",
       "      <td>3</td>\n",
       "      <td>Never-married</td>\n",
       "      <td>Other-service</td>\n",
       "      <td>Other-relative</td>\n",
       "      <td>White</td>\n",
       "      <td>Male</td>\n",
       "      <td>0</td>\n",
       "      <td>0</td>\n",
       "      <td>40</td>\n",
       "      <td>Mexico</td>\n",
       "      <td>&lt;=50K</td>\n",
       "    </tr>\n",
       "  </tbody>\n",
       "</table>\n",
       "</div>"
      ],
      "text/plain": [
       "       Age          Workclass  Final Weight      Education  \\\n",
       "7624    43        Federal-gov        203637      Bachelors   \n",
       "1291    63   Self-emp-not-inc        795830        1st-4th   \n",
       "30748   28            Private        119287      Bachelors   \n",
       "12822   18            Private        243240        HS-grad   \n",
       "11066   34            Private        164190   Some-college   \n",
       "7511    68                  ?        186163        1st-4th   \n",
       "12813   19            Private        125591           11th   \n",
       "32302   45          Local-gov        162187        HS-grad   \n",
       "4584    41            Private        298161      Assoc-voc   \n",
       "23263   27            Private        224849        HS-grad   \n",
       "30018   49            Private         31807   Some-college   \n",
       "12977   38            Private        212143   Some-college   \n",
       "1164    50            Private        369367        HS-grad   \n",
       "19539   21          Local-gov        212780           12th   \n",
       "10442   20            Private        528616        5th-6th   \n",
       "\n",
       "       Education Number of Years       Marital-status          Occupation  \\\n",
       "7624                          13   Married-civ-spouse        Adm-clerical   \n",
       "1291                           2              Widowed       Other-service   \n",
       "30748                         13   Married-civ-spouse     Exec-managerial   \n",
       "12822                          9        Never-married   Machine-op-inspct   \n",
       "11066                         10   Married-civ-spouse      Prof-specialty   \n",
       "7511                           2              Widowed                   ?   \n",
       "12813                          7        Never-married       Other-service   \n",
       "32302                          9   Married-civ-spouse     Protective-serv   \n",
       "4584                          11             Divorced        Adm-clerical   \n",
       "23263                          9   Married-civ-spouse        Craft-repair   \n",
       "30018                         10        Never-married     Exec-managerial   \n",
       "12977                         10   Married-civ-spouse     Exec-managerial   \n",
       "1164                           9             Divorced        Adm-clerical   \n",
       "19539                          8        Never-married   Handlers-cleaners   \n",
       "10442                          3        Never-married       Other-service   \n",
       "\n",
       "          Relationship    Race      Sex  Capital-gain  Capital-loss  \\\n",
       "7624           Husband   White     Male          7298             0   \n",
       "1291         Unmarried   White   Female             0             0   \n",
       "30748             Wife   White   Female         15024             0   \n",
       "12822    Not-in-family   White     Male             0             0   \n",
       "11066          Husband   White     Male             0          1902   \n",
       "7511         Unmarried   Black   Female             0             0   \n",
       "12813    Not-in-family   White   Female             0             0   \n",
       "32302          Husband   White     Male             0             0   \n",
       "4584         Own-child   White   Female             0             0   \n",
       "23263          Husband   White     Male             0             0   \n",
       "30018        Unmarried   White   Female             0             0   \n",
       "12977             Wife   White   Female             0             0   \n",
       "1164         Unmarried   White   Female             0             0   \n",
       "19539        Unmarried   Black   Female             0             0   \n",
       "10442   Other-relative   White     Male             0             0   \n",
       "\n",
       "       Hours-per-week  Native-country   Income  \n",
       "7624               40   United-States     >50K  \n",
       "1291               30     El-Salvador    <=50K  \n",
       "30748              28   United-States     >50K  \n",
       "12822              37   United-States    <=50K  \n",
       "11066              38   United-States     >50K  \n",
       "7511               40   United-States   <=50K   \n",
       "12813              40   United-States    <=50K  \n",
       "32302              40   United-States     >50K  \n",
       "4584               40            Cuba   <=50K   \n",
       "23263              40   United-States    <=50K  \n",
       "30018              40   United-States    <=50K  \n",
       "12977              35   United-States    >50K   \n",
       "1164               40   United-States   <=50K   \n",
       "19539              20   United-States    <=50K  \n",
       "10442              40          Mexico    <=50K  "
      ]
     },
     "execution_count": 49,
     "metadata": {},
     "output_type": "execute_result"
    }
   ],
   "source": [
    "import pandas as pd\n",
    "import numpy as np\n",
    "import matplotlib.pyplot as plt\n",
    "import seaborn as sns\n",
    "from sklearn.model_selection import train_test_split\n",
    "from sklearn.model_selection import train_test_split\n",
    "\n",
    "#creates the dataframe\n",
    "names = [\"Age\", \"Workclass\",\"Final Weight\",\"Education\",\"Education Number of Years\",\"Marital-status\",\"Occupation\",\"Relationship\",\"Race\",\"Sex\",\"Capital-gain\",\"Capital-loss\",\"Hours-per-week\",\"Native-country\", \"Income\"]\n",
    "df = pd.read_csv(\"adult.data\", names=names)\n",
    "#combines the df with the information stored in the other data file\n",
    "df2 = pd.read_csv(\"adult.test\", names = names)\n",
    "df = data = pd.concat([df,df2])\n",
    "df.sample(15)"
   ]
  },
  {
   "cell_type": "markdown",
   "metadata": {},
   "source": [
    "#### Preprocessing the dataset"
   ]
  },
  {
   "cell_type": "code",
   "execution_count": 50,
   "metadata": {},
   "outputs": [],
   "source": [
    "#strip all the column names\n",
    "df.columns = df.columns.str.strip()\n",
    "#selects all the series with strings\n",
    "object_series = []\n",
    "for series in df:\n",
    "    if df[series].dtype == object:\n",
    "        object_series.append(series)\n",
    "\n",
    "#strips each variable\n",
    "for series in object_series:\n",
    "    df[series] = df[series].str.strip()\n",
    "\n"
   ]
  },
  {
   "cell_type": "code",
   "execution_count": 51,
   "metadata": {},
   "outputs": [
    {
     "data": {
      "text/html": [
       "<div>\n",
       "<style scoped>\n",
       "    .dataframe tbody tr th:only-of-type {\n",
       "        vertical-align: middle;\n",
       "    }\n",
       "\n",
       "    .dataframe tbody tr th {\n",
       "        vertical-align: top;\n",
       "    }\n",
       "\n",
       "    .dataframe thead th {\n",
       "        text-align: right;\n",
       "    }\n",
       "</style>\n",
       "<table border=\"1\" class=\"dataframe\">\n",
       "  <thead>\n",
       "    <tr style=\"text-align: right;\">\n",
       "      <th></th>\n",
       "      <th>Age</th>\n",
       "      <th>Workclass</th>\n",
       "      <th>Final Weight</th>\n",
       "      <th>Education</th>\n",
       "      <th>Education Number of Years</th>\n",
       "      <th>Marital-status</th>\n",
       "      <th>Occupation</th>\n",
       "      <th>Relationship</th>\n",
       "      <th>Race</th>\n",
       "      <th>Sex</th>\n",
       "      <th>Capital-gain</th>\n",
       "      <th>Capital-loss</th>\n",
       "      <th>Hours-per-week</th>\n",
       "      <th>Native-country</th>\n",
       "      <th>Income</th>\n",
       "    </tr>\n",
       "  </thead>\n",
       "  <tbody>\n",
       "    <tr>\n",
       "      <th>count</th>\n",
       "      <td>48842.000000</td>\n",
       "      <td>48842</td>\n",
       "      <td>4.884200e+04</td>\n",
       "      <td>48842</td>\n",
       "      <td>48842.000000</td>\n",
       "      <td>48842</td>\n",
       "      <td>48842</td>\n",
       "      <td>48842</td>\n",
       "      <td>48842</td>\n",
       "      <td>48842</td>\n",
       "      <td>48842.000000</td>\n",
       "      <td>48842.000000</td>\n",
       "      <td>48842.000000</td>\n",
       "      <td>48842</td>\n",
       "      <td>48842</td>\n",
       "    </tr>\n",
       "    <tr>\n",
       "      <th>unique</th>\n",
       "      <td>NaN</td>\n",
       "      <td>9</td>\n",
       "      <td>NaN</td>\n",
       "      <td>16</td>\n",
       "      <td>NaN</td>\n",
       "      <td>7</td>\n",
       "      <td>15</td>\n",
       "      <td>6</td>\n",
       "      <td>5</td>\n",
       "      <td>2</td>\n",
       "      <td>NaN</td>\n",
       "      <td>NaN</td>\n",
       "      <td>NaN</td>\n",
       "      <td>42</td>\n",
       "      <td>2</td>\n",
       "    </tr>\n",
       "    <tr>\n",
       "      <th>top</th>\n",
       "      <td>NaN</td>\n",
       "      <td>Private</td>\n",
       "      <td>NaN</td>\n",
       "      <td>HS-grad</td>\n",
       "      <td>NaN</td>\n",
       "      <td>Married-civ-spouse</td>\n",
       "      <td>Prof-specialty</td>\n",
       "      <td>Husband</td>\n",
       "      <td>White</td>\n",
       "      <td>Male</td>\n",
       "      <td>NaN</td>\n",
       "      <td>NaN</td>\n",
       "      <td>NaN</td>\n",
       "      <td>United-States</td>\n",
       "      <td>&lt;=50K</td>\n",
       "    </tr>\n",
       "    <tr>\n",
       "      <th>freq</th>\n",
       "      <td>NaN</td>\n",
       "      <td>33906</td>\n",
       "      <td>NaN</td>\n",
       "      <td>15784</td>\n",
       "      <td>NaN</td>\n",
       "      <td>22379</td>\n",
       "      <td>6172</td>\n",
       "      <td>19716</td>\n",
       "      <td>41762</td>\n",
       "      <td>32650</td>\n",
       "      <td>NaN</td>\n",
       "      <td>NaN</td>\n",
       "      <td>NaN</td>\n",
       "      <td>43832</td>\n",
       "      <td>37155</td>\n",
       "    </tr>\n",
       "    <tr>\n",
       "      <th>mean</th>\n",
       "      <td>38.643585</td>\n",
       "      <td>NaN</td>\n",
       "      <td>1.896641e+05</td>\n",
       "      <td>NaN</td>\n",
       "      <td>10.078089</td>\n",
       "      <td>NaN</td>\n",
       "      <td>NaN</td>\n",
       "      <td>NaN</td>\n",
       "      <td>NaN</td>\n",
       "      <td>NaN</td>\n",
       "      <td>1079.067626</td>\n",
       "      <td>87.502314</td>\n",
       "      <td>40.422382</td>\n",
       "      <td>NaN</td>\n",
       "      <td>NaN</td>\n",
       "    </tr>\n",
       "    <tr>\n",
       "      <th>std</th>\n",
       "      <td>13.710510</td>\n",
       "      <td>NaN</td>\n",
       "      <td>1.056040e+05</td>\n",
       "      <td>NaN</td>\n",
       "      <td>2.570973</td>\n",
       "      <td>NaN</td>\n",
       "      <td>NaN</td>\n",
       "      <td>NaN</td>\n",
       "      <td>NaN</td>\n",
       "      <td>NaN</td>\n",
       "      <td>7452.019058</td>\n",
       "      <td>403.004552</td>\n",
       "      <td>12.391444</td>\n",
       "      <td>NaN</td>\n",
       "      <td>NaN</td>\n",
       "    </tr>\n",
       "    <tr>\n",
       "      <th>min</th>\n",
       "      <td>17.000000</td>\n",
       "      <td>NaN</td>\n",
       "      <td>1.228500e+04</td>\n",
       "      <td>NaN</td>\n",
       "      <td>1.000000</td>\n",
       "      <td>NaN</td>\n",
       "      <td>NaN</td>\n",
       "      <td>NaN</td>\n",
       "      <td>NaN</td>\n",
       "      <td>NaN</td>\n",
       "      <td>0.000000</td>\n",
       "      <td>0.000000</td>\n",
       "      <td>1.000000</td>\n",
       "      <td>NaN</td>\n",
       "      <td>NaN</td>\n",
       "    </tr>\n",
       "    <tr>\n",
       "      <th>25%</th>\n",
       "      <td>28.000000</td>\n",
       "      <td>NaN</td>\n",
       "      <td>1.175505e+05</td>\n",
       "      <td>NaN</td>\n",
       "      <td>9.000000</td>\n",
       "      <td>NaN</td>\n",
       "      <td>NaN</td>\n",
       "      <td>NaN</td>\n",
       "      <td>NaN</td>\n",
       "      <td>NaN</td>\n",
       "      <td>0.000000</td>\n",
       "      <td>0.000000</td>\n",
       "      <td>40.000000</td>\n",
       "      <td>NaN</td>\n",
       "      <td>NaN</td>\n",
       "    </tr>\n",
       "    <tr>\n",
       "      <th>50%</th>\n",
       "      <td>37.000000</td>\n",
       "      <td>NaN</td>\n",
       "      <td>1.781445e+05</td>\n",
       "      <td>NaN</td>\n",
       "      <td>10.000000</td>\n",
       "      <td>NaN</td>\n",
       "      <td>NaN</td>\n",
       "      <td>NaN</td>\n",
       "      <td>NaN</td>\n",
       "      <td>NaN</td>\n",
       "      <td>0.000000</td>\n",
       "      <td>0.000000</td>\n",
       "      <td>40.000000</td>\n",
       "      <td>NaN</td>\n",
       "      <td>NaN</td>\n",
       "    </tr>\n",
       "    <tr>\n",
       "      <th>75%</th>\n",
       "      <td>48.000000</td>\n",
       "      <td>NaN</td>\n",
       "      <td>2.376420e+05</td>\n",
       "      <td>NaN</td>\n",
       "      <td>12.000000</td>\n",
       "      <td>NaN</td>\n",
       "      <td>NaN</td>\n",
       "      <td>NaN</td>\n",
       "      <td>NaN</td>\n",
       "      <td>NaN</td>\n",
       "      <td>0.000000</td>\n",
       "      <td>0.000000</td>\n",
       "      <td>45.000000</td>\n",
       "      <td>NaN</td>\n",
       "      <td>NaN</td>\n",
       "    </tr>\n",
       "    <tr>\n",
       "      <th>max</th>\n",
       "      <td>90.000000</td>\n",
       "      <td>NaN</td>\n",
       "      <td>1.490400e+06</td>\n",
       "      <td>NaN</td>\n",
       "      <td>16.000000</td>\n",
       "      <td>NaN</td>\n",
       "      <td>NaN</td>\n",
       "      <td>NaN</td>\n",
       "      <td>NaN</td>\n",
       "      <td>NaN</td>\n",
       "      <td>99999.000000</td>\n",
       "      <td>4356.000000</td>\n",
       "      <td>99.000000</td>\n",
       "      <td>NaN</td>\n",
       "      <td>NaN</td>\n",
       "    </tr>\n",
       "  </tbody>\n",
       "</table>\n",
       "</div>"
      ],
      "text/plain": [
       "                 Age Workclass  Final Weight Education  \\\n",
       "count   48842.000000     48842  4.884200e+04     48842   \n",
       "unique           NaN         9           NaN        16   \n",
       "top              NaN   Private           NaN   HS-grad   \n",
       "freq             NaN     33906           NaN     15784   \n",
       "mean       38.643585       NaN  1.896641e+05       NaN   \n",
       "std        13.710510       NaN  1.056040e+05       NaN   \n",
       "min        17.000000       NaN  1.228500e+04       NaN   \n",
       "25%        28.000000       NaN  1.175505e+05       NaN   \n",
       "50%        37.000000       NaN  1.781445e+05       NaN   \n",
       "75%        48.000000       NaN  2.376420e+05       NaN   \n",
       "max        90.000000       NaN  1.490400e+06       NaN   \n",
       "\n",
       "        Education Number of Years      Marital-status      Occupation  \\\n",
       "count                48842.000000               48842           48842   \n",
       "unique                        NaN                   7              15   \n",
       "top                           NaN  Married-civ-spouse  Prof-specialty   \n",
       "freq                          NaN               22379            6172   \n",
       "mean                    10.078089                 NaN             NaN   \n",
       "std                      2.570973                 NaN             NaN   \n",
       "min                      1.000000                 NaN             NaN   \n",
       "25%                      9.000000                 NaN             NaN   \n",
       "50%                     10.000000                 NaN             NaN   \n",
       "75%                     12.000000                 NaN             NaN   \n",
       "max                     16.000000                 NaN             NaN   \n",
       "\n",
       "       Relationship   Race    Sex  Capital-gain  Capital-loss  Hours-per-week  \\\n",
       "count         48842  48842  48842  48842.000000  48842.000000    48842.000000   \n",
       "unique            6      5      2           NaN           NaN             NaN   \n",
       "top         Husband  White   Male           NaN           NaN             NaN   \n",
       "freq          19716  41762  32650           NaN           NaN             NaN   \n",
       "mean            NaN    NaN    NaN   1079.067626     87.502314       40.422382   \n",
       "std             NaN    NaN    NaN   7452.019058    403.004552       12.391444   \n",
       "min             NaN    NaN    NaN      0.000000      0.000000        1.000000   \n",
       "25%             NaN    NaN    NaN      0.000000      0.000000       40.000000   \n",
       "50%             NaN    NaN    NaN      0.000000      0.000000       40.000000   \n",
       "75%             NaN    NaN    NaN      0.000000      0.000000       45.000000   \n",
       "max             NaN    NaN    NaN  99999.000000   4356.000000       99.000000   \n",
       "\n",
       "       Native-country Income  \n",
       "count           48842  48842  \n",
       "unique             42      2  \n",
       "top     United-States  <=50K  \n",
       "freq            43832  37155  \n",
       "mean              NaN    NaN  \n",
       "std               NaN    NaN  \n",
       "min               NaN    NaN  \n",
       "25%               NaN    NaN  \n",
       "50%               NaN    NaN  \n",
       "75%               NaN    NaN  \n",
       "max               NaN    NaN  "
      ]
     },
     "execution_count": 51,
     "metadata": {},
     "output_type": "execute_result"
    }
   ],
   "source": [
    "df.describe(include='all')"
   ]
  },
  {
   "cell_type": "code",
   "execution_count": 5,
   "metadata": {},
   "outputs": [
    {
     "data": {
      "text/plain": [
       "Age                          False\n",
       "Workclass                    False\n",
       "Final Weight                 False\n",
       "Education                    False\n",
       "Education Number of Years    False\n",
       "Marital-status               False\n",
       "Occupation                   False\n",
       "Relationship                 False\n",
       "Race                         False\n",
       "Sex                          False\n",
       "Capital-gain                 False\n",
       "Capital-loss                 False\n",
       "Hours-per-week               False\n",
       "Native-country               False\n",
       "Income                       False\n",
       "dtype: bool"
      ]
     },
     "execution_count": 5,
     "metadata": {},
     "output_type": "execute_result"
    }
   ],
   "source": [
    "#lets check for missing values\n",
    "df.isna().any()"
   ]
  },
  {
   "cell_type": "code",
   "execution_count": 52,
   "metadata": {},
   "outputs": [
    {
     "name": "stdout",
     "output_type": "stream",
     "text": [
      "There are 3620 rows with missing values in the dataset\n"
     ]
    }
   ],
   "source": [
    "#the output shows no null values, however the dataset has missing values that are encoded with \"?\"\n",
    "#lets check how many of those there are \n",
    "missing_data = 0\n",
    "for row in df.values:\n",
    "    if \"?\" in row:\n",
    "        missing_data +=1\n",
    "print(f\"There are {missing_data} rows with missing values in the dataset\")\n"
   ]
  },
  {
   "cell_type": "markdown",
   "metadata": {},
   "source": [
    "As you can see there are 3620 cases with missing data"
   ]
  },
  {
   "cell_type": "code",
   "execution_count": 53,
   "metadata": {},
   "outputs": [
    {
     "name": "stdout",
     "output_type": "stream",
     "text": [
      "The percentage of missing values in the Workclass attribute is 5.73%\n",
      "The percentage of missing values in the Occupation attribute is 5.75%\n",
      "The percentage of missing values in the Native-country attribute is 1.75%\n"
     ]
    }
   ],
   "source": [
    "for series in names:\n",
    "    missing_count = df[series].isin(['?']).sum(axis = 0)\n",
    "    missing_percentage = round((missing_count / df.shape[0]) * 100, 2)\n",
    "    if missing_count > 0:\n",
    "        print(f\"The percentage of missing values in the {series} attribute is {missing_percentage}%\") \n",
    "    "
   ]
  },
  {
   "cell_type": "markdown",
   "metadata": {},
   "source": [
    "The rest of the attributes did not have any missing data. As there is no straight forward way to encode missing values, let us remove them."
   ]
  },
  {
   "cell_type": "code",
   "execution_count": 54,
   "metadata": {},
   "outputs": [
    {
     "name": "stdout",
     "output_type": "stream",
     "text": [
      "There are 45222 cases with no missing data\n"
     ]
    }
   ],
   "source": [
    "#lets get rid of the missing data\n",
    "df.replace({\"?\": None}, inplace= True)\n",
    "df.dropna(inplace = True)\n",
    "number_of_rows = df.shape[0]\n",
    "print(f\"There are {number_of_rows} cases with no missing data\")"
   ]
  },
  {
   "cell_type": "code",
   "execution_count": 55,
   "metadata": {},
   "outputs": [
    {
     "name": "stdout",
     "output_type": "stream",
     "text": [
      "There are 47 duplicate rows in the data.\n"
     ]
    }
   ],
   "source": [
    "#finally, lets check for duplicates in the dataset\n",
    "print(f'There are {df.duplicated().sum()} duplicate rows in the data.')"
   ]
  },
  {
   "cell_type": "markdown",
   "metadata": {},
   "source": [
    "There are 47 duplicate rows, lets drop them"
   ]
  },
  {
   "cell_type": "code",
   "execution_count": 56,
   "metadata": {},
   "outputs": [
    {
     "name": "stdout",
     "output_type": "stream",
     "text": [
      "After dubplicates were removed we are left with 45175 cases.\n"
     ]
    }
   ],
   "source": [
    "df = df.drop_duplicates()\n",
    "print(f'After dubplicates were removed we are left with {df.shape[0]} cases.')"
   ]
  },
  {
   "cell_type": "markdown",
   "metadata": {},
   "source": [
    "Lets covert the final weight into the percentage of the total number of cases that this row represents."
   ]
  },
  {
   "cell_type": "code",
   "execution_count": 57,
   "metadata": {},
   "outputs": [
    {
     "name": "stderr",
     "output_type": "stream",
     "text": [
      "c:\\users\\lenovo\\anaconda3\\envs\\geospatial\\lib\\site-packages\\ipykernel_launcher.py:4: SettingWithCopyWarning: \n",
      "A value is trying to be set on a copy of a slice from a DataFrame.\n",
      "Try using .loc[row_indexer,col_indexer] = value instead\n",
      "\n",
      "See the caveats in the documentation: https://pandas.pydata.org/pandas-docs/stable/user_guide/indexing.html#returning-a-view-versus-a-copy\n",
      "  after removing the cwd from sys.path.\n"
     ]
    },
    {
     "data": {
      "text/html": [
       "<div>\n",
       "<style scoped>\n",
       "    .dataframe tbody tr th:only-of-type {\n",
       "        vertical-align: middle;\n",
       "    }\n",
       "\n",
       "    .dataframe tbody tr th {\n",
       "        vertical-align: top;\n",
       "    }\n",
       "\n",
       "    .dataframe thead th {\n",
       "        text-align: right;\n",
       "    }\n",
       "</style>\n",
       "<table border=\"1\" class=\"dataframe\">\n",
       "  <thead>\n",
       "    <tr style=\"text-align: right;\">\n",
       "      <th></th>\n",
       "      <th>Age</th>\n",
       "      <th>Workclass</th>\n",
       "      <th>Final Weight</th>\n",
       "      <th>Education</th>\n",
       "      <th>Education Number of Years</th>\n",
       "      <th>Marital-status</th>\n",
       "      <th>Occupation</th>\n",
       "      <th>Relationship</th>\n",
       "      <th>Race</th>\n",
       "      <th>Sex</th>\n",
       "      <th>Capital-gain</th>\n",
       "      <th>Capital-loss</th>\n",
       "      <th>Hours-per-week</th>\n",
       "      <th>Native-country</th>\n",
       "      <th>Income</th>\n",
       "    </tr>\n",
       "  </thead>\n",
       "  <tbody>\n",
       "    <tr>\n",
       "      <th>0</th>\n",
       "      <td>39</td>\n",
       "      <td>State-gov</td>\n",
       "      <td>0.000009</td>\n",
       "      <td>Bachelors</td>\n",
       "      <td>13</td>\n",
       "      <td>Never-married</td>\n",
       "      <td>Adm-clerical</td>\n",
       "      <td>Not-in-family</td>\n",
       "      <td>White</td>\n",
       "      <td>Male</td>\n",
       "      <td>2174</td>\n",
       "      <td>0</td>\n",
       "      <td>40</td>\n",
       "      <td>United-States</td>\n",
       "      <td>&lt;=50K</td>\n",
       "    </tr>\n",
       "    <tr>\n",
       "      <th>1</th>\n",
       "      <td>50</td>\n",
       "      <td>Self-emp-not-inc</td>\n",
       "      <td>0.000010</td>\n",
       "      <td>Bachelors</td>\n",
       "      <td>13</td>\n",
       "      <td>Married-civ-spouse</td>\n",
       "      <td>Exec-managerial</td>\n",
       "      <td>Husband</td>\n",
       "      <td>White</td>\n",
       "      <td>Male</td>\n",
       "      <td>0</td>\n",
       "      <td>0</td>\n",
       "      <td>13</td>\n",
       "      <td>United-States</td>\n",
       "      <td>&lt;=50K</td>\n",
       "    </tr>\n",
       "    <tr>\n",
       "      <th>2</th>\n",
       "      <td>38</td>\n",
       "      <td>Private</td>\n",
       "      <td>0.000025</td>\n",
       "      <td>HS-grad</td>\n",
       "      <td>9</td>\n",
       "      <td>Divorced</td>\n",
       "      <td>Handlers-cleaners</td>\n",
       "      <td>Not-in-family</td>\n",
       "      <td>White</td>\n",
       "      <td>Male</td>\n",
       "      <td>0</td>\n",
       "      <td>0</td>\n",
       "      <td>40</td>\n",
       "      <td>United-States</td>\n",
       "      <td>&lt;=50K</td>\n",
       "    </tr>\n",
       "    <tr>\n",
       "      <th>3</th>\n",
       "      <td>53</td>\n",
       "      <td>Private</td>\n",
       "      <td>0.000027</td>\n",
       "      <td>11th</td>\n",
       "      <td>7</td>\n",
       "      <td>Married-civ-spouse</td>\n",
       "      <td>Handlers-cleaners</td>\n",
       "      <td>Husband</td>\n",
       "      <td>Black</td>\n",
       "      <td>Male</td>\n",
       "      <td>0</td>\n",
       "      <td>0</td>\n",
       "      <td>40</td>\n",
       "      <td>United-States</td>\n",
       "      <td>&lt;=50K</td>\n",
       "    </tr>\n",
       "    <tr>\n",
       "      <th>4</th>\n",
       "      <td>28</td>\n",
       "      <td>Private</td>\n",
       "      <td>0.000039</td>\n",
       "      <td>Bachelors</td>\n",
       "      <td>13</td>\n",
       "      <td>Married-civ-spouse</td>\n",
       "      <td>Prof-specialty</td>\n",
       "      <td>Wife</td>\n",
       "      <td>Black</td>\n",
       "      <td>Female</td>\n",
       "      <td>0</td>\n",
       "      <td>0</td>\n",
       "      <td>40</td>\n",
       "      <td>Cuba</td>\n",
       "      <td>&lt;=50K</td>\n",
       "    </tr>\n",
       "    <tr>\n",
       "      <th>...</th>\n",
       "      <td>...</td>\n",
       "      <td>...</td>\n",
       "      <td>...</td>\n",
       "      <td>...</td>\n",
       "      <td>...</td>\n",
       "      <td>...</td>\n",
       "      <td>...</td>\n",
       "      <td>...</td>\n",
       "      <td>...</td>\n",
       "      <td>...</td>\n",
       "      <td>...</td>\n",
       "      <td>...</td>\n",
       "      <td>...</td>\n",
       "      <td>...</td>\n",
       "      <td>...</td>\n",
       "    </tr>\n",
       "    <tr>\n",
       "      <th>16275</th>\n",
       "      <td>33</td>\n",
       "      <td>Private</td>\n",
       "      <td>0.000029</td>\n",
       "      <td>Bachelors</td>\n",
       "      <td>13</td>\n",
       "      <td>Never-married</td>\n",
       "      <td>Prof-specialty</td>\n",
       "      <td>Own-child</td>\n",
       "      <td>White</td>\n",
       "      <td>Male</td>\n",
       "      <td>0</td>\n",
       "      <td>0</td>\n",
       "      <td>40</td>\n",
       "      <td>United-States</td>\n",
       "      <td>&lt;=50K</td>\n",
       "    </tr>\n",
       "    <tr>\n",
       "      <th>16276</th>\n",
       "      <td>39</td>\n",
       "      <td>Private</td>\n",
       "      <td>0.000025</td>\n",
       "      <td>Bachelors</td>\n",
       "      <td>13</td>\n",
       "      <td>Divorced</td>\n",
       "      <td>Prof-specialty</td>\n",
       "      <td>Not-in-family</td>\n",
       "      <td>White</td>\n",
       "      <td>Female</td>\n",
       "      <td>0</td>\n",
       "      <td>0</td>\n",
       "      <td>36</td>\n",
       "      <td>United-States</td>\n",
       "      <td>&lt;=50K</td>\n",
       "    </tr>\n",
       "    <tr>\n",
       "      <th>16278</th>\n",
       "      <td>38</td>\n",
       "      <td>Private</td>\n",
       "      <td>0.000044</td>\n",
       "      <td>Bachelors</td>\n",
       "      <td>13</td>\n",
       "      <td>Married-civ-spouse</td>\n",
       "      <td>Prof-specialty</td>\n",
       "      <td>Husband</td>\n",
       "      <td>White</td>\n",
       "      <td>Male</td>\n",
       "      <td>0</td>\n",
       "      <td>0</td>\n",
       "      <td>50</td>\n",
       "      <td>United-States</td>\n",
       "      <td>&lt;=50K</td>\n",
       "    </tr>\n",
       "    <tr>\n",
       "      <th>16279</th>\n",
       "      <td>44</td>\n",
       "      <td>Private</td>\n",
       "      <td>0.000010</td>\n",
       "      <td>Bachelors</td>\n",
       "      <td>13</td>\n",
       "      <td>Divorced</td>\n",
       "      <td>Adm-clerical</td>\n",
       "      <td>Own-child</td>\n",
       "      <td>Asian-Pac-Islander</td>\n",
       "      <td>Male</td>\n",
       "      <td>5455</td>\n",
       "      <td>0</td>\n",
       "      <td>40</td>\n",
       "      <td>United-States</td>\n",
       "      <td>&lt;=50K</td>\n",
       "    </tr>\n",
       "    <tr>\n",
       "      <th>16280</th>\n",
       "      <td>35</td>\n",
       "      <td>Self-emp-inc</td>\n",
       "      <td>0.000021</td>\n",
       "      <td>Bachelors</td>\n",
       "      <td>13</td>\n",
       "      <td>Married-civ-spouse</td>\n",
       "      <td>Exec-managerial</td>\n",
       "      <td>Husband</td>\n",
       "      <td>White</td>\n",
       "      <td>Male</td>\n",
       "      <td>0</td>\n",
       "      <td>0</td>\n",
       "      <td>60</td>\n",
       "      <td>United-States</td>\n",
       "      <td>&gt;50K</td>\n",
       "    </tr>\n",
       "  </tbody>\n",
       "</table>\n",
       "<p>45175 rows × 15 columns</p>\n",
       "</div>"
      ],
      "text/plain": [
       "       Age         Workclass  Final Weight  Education  \\\n",
       "0       39         State-gov      0.000009  Bachelors   \n",
       "1       50  Self-emp-not-inc      0.000010  Bachelors   \n",
       "2       38           Private      0.000025    HS-grad   \n",
       "3       53           Private      0.000027       11th   \n",
       "4       28           Private      0.000039  Bachelors   \n",
       "...    ...               ...           ...        ...   \n",
       "16275   33           Private      0.000029  Bachelors   \n",
       "16276   39           Private      0.000025  Bachelors   \n",
       "16278   38           Private      0.000044  Bachelors   \n",
       "16279   44           Private      0.000010  Bachelors   \n",
       "16280   35      Self-emp-inc      0.000021  Bachelors   \n",
       "\n",
       "       Education Number of Years      Marital-status         Occupation  \\\n",
       "0                             13       Never-married       Adm-clerical   \n",
       "1                             13  Married-civ-spouse    Exec-managerial   \n",
       "2                              9            Divorced  Handlers-cleaners   \n",
       "3                              7  Married-civ-spouse  Handlers-cleaners   \n",
       "4                             13  Married-civ-spouse     Prof-specialty   \n",
       "...                          ...                 ...                ...   \n",
       "16275                         13       Never-married     Prof-specialty   \n",
       "16276                         13            Divorced     Prof-specialty   \n",
       "16278                         13  Married-civ-spouse     Prof-specialty   \n",
       "16279                         13            Divorced       Adm-clerical   \n",
       "16280                         13  Married-civ-spouse    Exec-managerial   \n",
       "\n",
       "        Relationship                Race     Sex  Capital-gain  Capital-loss  \\\n",
       "0      Not-in-family               White    Male          2174             0   \n",
       "1            Husband               White    Male             0             0   \n",
       "2      Not-in-family               White    Male             0             0   \n",
       "3            Husband               Black    Male             0             0   \n",
       "4               Wife               Black  Female             0             0   \n",
       "...              ...                 ...     ...           ...           ...   \n",
       "16275      Own-child               White    Male             0             0   \n",
       "16276  Not-in-family               White  Female             0             0   \n",
       "16278        Husband               White    Male             0             0   \n",
       "16279      Own-child  Asian-Pac-Islander    Male          5455             0   \n",
       "16280        Husband               White    Male             0             0   \n",
       "\n",
       "       Hours-per-week Native-country Income  \n",
       "0                  40  United-States  <=50K  \n",
       "1                  13  United-States  <=50K  \n",
       "2                  40  United-States  <=50K  \n",
       "3                  40  United-States  <=50K  \n",
       "4                  40           Cuba  <=50K  \n",
       "...               ...            ...    ...  \n",
       "16275              40  United-States  <=50K  \n",
       "16276              36  United-States  <=50K  \n",
       "16278              50  United-States  <=50K  \n",
       "16279              40  United-States  <=50K  \n",
       "16280              60  United-States   >50K  \n",
       "\n",
       "[45175 rows x 15 columns]"
      ]
     },
     "execution_count": 57,
     "metadata": {},
     "output_type": "execute_result"
    }
   ],
   "source": [
    "#find the total number of cases\n",
    "total = df[\"Final Weight\"].sum()\n",
    "#convert the final weight into a fraction of the total number of cases\n",
    "df[\"Final Weight\"] = df[\"Final Weight\"].div(total)\n",
    "df\n"
   ]
  },
  {
   "cell_type": "markdown",
   "metadata": {},
   "source": [
    "## Exploratory Data Analsyis (EDA)"
   ]
  },
  {
   "cell_type": "markdown",
   "metadata": {},
   "source": [
    "In order to check that there are no mislabeled cases and determine the skewness of data, let us visualise each attribute with a frequency table."
   ]
  },
  {
   "cell_type": "code",
   "execution_count": 58,
   "metadata": {},
   "outputs": [
    {
     "name": "stdout",
     "output_type": "stream",
     "text": [
      "<=50K    33973\n",
      ">50K     11202\n",
      "Name: Income, dtype: int64\n"
     ]
    },
    {
     "data": {
      "image/png": "[encoded data removed]",
      "text/plain": [
       "<Figure size 432x288 with 1 Axes>"
      ]
     },
     "metadata": {
      "needs_background": "light"
     },
     "output_type": "display_data"
    }
   ],
   "source": [
    "#lets plot the income\n",
    "ax = sns.countplot(x=\"Income\", data=df)\n",
    "ax.set_title('Income Distribution (Target Variable)')\n",
    "print(df.Income.value_counts())"
   ]
  },
  {
   "cell_type": "markdown",
   "metadata": {},
   "source": [
    "From the graph above, it is clear that the target group has a skewed distribution. "
   ]
  },
  {
   "cell_type": "code",
   "execution_count": 59,
   "metadata": {},
   "outputs": [
    {
     "name": "stdout",
     "output_type": "stream",
     "text": [
      "Private             33262\n",
      "Self-emp-not-inc     3795\n",
      "Local-gov            3100\n",
      "State-gov            1946\n",
      "Self-emp-inc         1645\n",
      "Federal-gov          1406\n",
      "Without-pay            21\n",
      "Name: Workclass, dtype: int64\n"
     ]
    },
    {
     "data": {
      "image/png": "[encoded data removed]",
      "text/plain": [
       "<Figure size 648x576 with 1 Axes>"
      ]
     },
     "metadata": {
      "needs_background": "light"
     },
     "output_type": "display_data"
    }
   ],
   "source": [
    "plt.figure(figsize=(9,8))\n",
    "ax = sns.countplot(x=\"Workclass\", data=df)\n",
    "ax.set_title('Workclass Distribution')\n",
    "print(df.Workclass.value_counts())"
   ]
  },
  {
   "cell_type": "code",
   "execution_count": 60,
   "metadata": {},
   "outputs": [
    {
     "name": "stdout",
     "output_type": "stream",
     "text": [
      "Private             33262\n",
      "Self-emp-not-inc     3795\n",
      "Local-gov            3100\n",
      "State-gov            1946\n",
      "Self-emp-inc         1645\n",
      "Federal-gov          1406\n",
      "Without-pay            21\n",
      "Name: Workclass, dtype: int64\n"
     ]
    },
    {
     "data": {
      "image/png": "[encoded data removed]",
      "text/plain": [
       "<Figure size 2160x864 with 1 Axes>"
      ]
     },
     "metadata": {
      "needs_background": "light"
     },
     "output_type": "display_data"
    }
   ],
   "source": [
    "plt.figure(figsize=(30,12))\n",
    "ax = sns.countplot(x=\"Occupation\", data=df,)\n",
    "ax.set_title('Occupation Distribution')\n",
    "print(df.Workclass.value_counts())"
   ]
  },
  {
   "cell_type": "code",
   "execution_count": 61,
   "metadata": {},
   "outputs": [
    {
     "name": "stdout",
     "output_type": "stream",
     "text": [
      "Private             33262\n",
      "Self-emp-not-inc     3795\n",
      "Local-gov            3100\n",
      "State-gov            1946\n",
      "Self-emp-inc         1645\n",
      "Federal-gov          1406\n",
      "Without-pay            21\n",
      "Name: Workclass, dtype: int64\n"
     ]
    },
    {
     "data": {
      "image/png": "[encoded data removed]",
      "text/plain": [
       "<Figure size 864x576 with 1 Axes>"
      ]
     },
     "metadata": {
      "needs_background": "light"
     },
     "output_type": "display_data"
    }
   ],
   "source": [
    "plt.figure(figsize=(12,8))\n",
    "ax = sns.countplot(x=\"Marital-status\", data=df,)\n",
    "print(df.Workclass.value_counts())"
   ]
  },
  {
   "cell_type": "code",
   "execution_count": 62,
   "metadata": {},
   "outputs": [
    {
     "name": "stdout",
     "output_type": "stream",
     "text": [
      "Private             33262\n",
      "Self-emp-not-inc     3795\n",
      "Local-gov            3100\n",
      "State-gov            1946\n",
      "Self-emp-inc         1645\n",
      "Federal-gov          1406\n",
      "Without-pay            21\n",
      "Name: Workclass, dtype: int64\n"
     ]
    },
    {
     "data": {
      "image/png": "[encoded data removed]",
      "text/plain": [
       "<Figure size 1440x720 with 1 Axes>"
      ]
     },
     "metadata": {
      "needs_background": "light"
     },
     "output_type": "display_data"
    }
   ],
   "source": [
    "plt.figure(figsize=(20,10))\n",
    "ax = sns.countplot(x=\"Education\", data=df,)\n",
    "ax.set_title('Education Distribution')\n",
    "print(df.Workclass.value_counts())"
   ]
  },
  {
   "cell_type": "code",
   "execution_count": 63,
   "metadata": {},
   "outputs": [
    {
     "name": "stdout",
     "output_type": "stream",
     "text": [
      "Private             33262\n",
      "Self-emp-not-inc     3795\n",
      "Local-gov            3100\n",
      "State-gov            1946\n",
      "Self-emp-inc         1645\n",
      "Federal-gov          1406\n",
      "Without-pay            21\n",
      "Name: Workclass, dtype: int64\n"
     ]
    },
    {
     "data": {
      "image/png": "[encoded data removed]",
      "text/plain": [
       "<Figure size 576x576 with 1 Axes>"
      ]
     },
     "metadata": {
      "needs_background": "light"
     },
     "output_type": "display_data"
    }
   ],
   "source": [
    "plt.figure(figsize=(8,8))\n",
    "ax = sns.countplot(x=\"Relationship\", data=df,)\n",
    "ax.set_title('Relationship Distribution')\n",
    "print(df.Workclass.value_counts())"
   ]
  },
  {
   "cell_type": "code",
   "execution_count": 64,
   "metadata": {},
   "outputs": [
    {
     "name": "stdout",
     "output_type": "stream",
     "text": [
      "Private             33262\n",
      "Self-emp-not-inc     3795\n",
      "Local-gov            3100\n",
      "State-gov            1946\n",
      "Self-emp-inc         1645\n",
      "Federal-gov          1406\n",
      "Without-pay            21\n",
      "Name: Workclass, dtype: int64\n"
     ]
    },
    {
     "data": {
      "image/png": "[encoded data removed]",
      "text/plain": [
       "<Figure size 576x576 with 1 Axes>"
      ]
     },
     "metadata": {
      "needs_background": "light"
     },
     "output_type": "display_data"
    }
   ],
   "source": [
    "plt.figure(figsize=(8,8))\n",
    "ax = sns.countplot(x=\"Race\", data=df,)\n",
    "ax.set_title('Race Distribution')\n",
    "print(df.Workclass.value_counts())"
   ]
  },
  {
   "cell_type": "code",
   "execution_count": 65,
   "metadata": {},
   "outputs": [
    {
     "name": "stdout",
     "output_type": "stream",
     "text": [
      "Private             33262\n",
      "Self-emp-not-inc     3795\n",
      "Local-gov            3100\n",
      "State-gov            1946\n",
      "Self-emp-inc         1645\n",
      "Federal-gov          1406\n",
      "Without-pay            21\n",
      "Name: Workclass, dtype: int64\n"
     ]
    },
    {
     "data": {
      "image/png": "[encoded data removed]",
      "text/plain": [
       "<Figure size 360x360 with 1 Axes>"
      ]
     },
     "metadata": {
      "needs_background": "light"
     },
     "output_type": "display_data"
    }
   ],
   "source": [
    "plt.figure(figsize=(5,5))\n",
    "ax = sns.countplot(x=\"Sex\", data=df,)\n",
    "ax.set_title('Sex Distribution')\n",
    "print(df.Workclass.value_counts())"
   ]
  },
  {
   "cell_type": "code",
   "execution_count": 66,
   "metadata": {},
   "outputs": [
    {
     "data": {
      "image/png": "[encoded data removed]",
      "text/plain": [
       "<Figure size 1080x1080 with 1 Axes>"
      ]
     },
     "metadata": {
      "needs_background": "light"
     },
     "output_type": "display_data"
    }
   ],
   "source": [
    "#plots home countries\n",
    "ax = data['Native-country'].value_counts().plot(kind = 'bar', figsize = (15,15))"
   ]
  },
  {
   "cell_type": "code",
   "execution_count": 67,
   "metadata": {
    "scrolled": false
   },
   "outputs": [
    {
     "name": "stderr",
     "output_type": "stream",
     "text": [
      "c:\\users\\lenovo\\anaconda3\\envs\\geospatial\\lib\\site-packages\\pandas\\plotting\\_matplotlib\\tools.py:331: MatplotlibDeprecationWarning: \n",
      "The is_first_col function was deprecated in Matplotlib 3.4 and will be removed two minor releases later. Use ax.get_subplotspec().is_first_col() instead.\n",
      "  if ax.is_first_col():\n"
     ]
    },
    {
     "data": {
      "image/png": "[encoded data removed]",
      "text/plain": [
       "<Figure size 720x720 with 6 Axes>"
      ]
     },
     "metadata": {
      "needs_background": "light"
     },
     "output_type": "display_data"
    }
   ],
   "source": [
    "df.hist(figsize = (10,10), bins= 22, color = 'green')\n",
    "plt.show()"
   ]
  },
  {
   "cell_type": "markdown",
   "metadata": {},
   "source": [
    "### Bivariate Analysis using Box Plots "
   ]
  },
  {
   "cell_type": "markdown",
   "metadata": {},
   "source": [
    "#### a. Relationship between Income and Age"
   ]
  },
  {
   "cell_type": "code",
   "execution_count": 68,
   "metadata": {
    "scrolled": false
   },
   "outputs": [
    {
     "data": {
      "image/png": "[encoded data removed]",
      "text/plain": [
       "<Figure size 360x360 with 1 Axes>"
      ]
     },
     "metadata": {
      "needs_background": "light"
     },
     "output_type": "display_data"
    }
   ],
   "source": [
    "plt.figure(figsize=(5,5))\n",
    "ax = sns.boxplot(x=\"Income\",y=\"Age\",data=df)\n",
    "ax.set_title('Relationship between income and age distribution')\n",
    "plt.show()"
   ]
  },
  {
   "cell_type": "markdown",
   "metadata": {},
   "source": [
    "Income group <=50k (class 0) has a median age of ~ 34 years whereas the income group >50k (Class 1) has a median age of ~42years.  "
   ]
  },
  {
   "cell_type": "markdown",
   "metadata": {},
   "source": [
    "#### b. Relationship between Income and Captial-gain"
   ]
  },
  {
   "cell_type": "code",
   "execution_count": 69,
   "metadata": {
    "scrolled": false
   },
   "outputs": [
    {
     "data": {
      "image/png": "[encoded data removed]",
      "text/plain": [
       "<Figure size 360x360 with 1 Axes>"
      ]
     },
     "metadata": {
      "needs_background": "light"
     },
     "output_type": "display_data"
    }
   ],
   "source": [
    "plt.figure(figsize=(5,5))\n",
    "ax = sns.boxplot(x=\"Income\", y=\"Capital-gain\", data=df)\n",
    "ax.set_title('Relationship between income and Captain-gain')\n",
    "plt.show()"
   ]
  },
  {
   "cell_type": "markdown",
   "metadata": {},
   "source": [
    "Maximum of the capital gains value is concentrated at 0 for both the income group "
   ]
  },
  {
   "cell_type": "markdown",
   "metadata": {},
   "source": [
    "#### c. Relationship between Income and Capital-Loss"
   ]
  },
  {
   "cell_type": "code",
   "execution_count": 70,
   "metadata": {},
   "outputs": [
    {
     "data": {
      "image/png": "[encoded data removed]",
      "text/plain": [
       "<Figure size 360x360 with 1 Axes>"
      ]
     },
     "metadata": {
      "needs_background": "light"
     },
     "output_type": "display_data"
    }
   ],
   "source": [
    "plt.figure(figsize=(5,5))\n",
    "ax = sns.boxplot(x=\"Income\", y=\"Capital-loss\", data=df)\n",
    "ax.set_title('Relationship between Income and Captial-loss')\n",
    "plt.show()"
   ]
  },
  {
   "cell_type": "markdown",
   "metadata": {},
   "source": [
    "The result of the above box plot is quite similiar to the boxplot between Captial-Gain and income as most of the values are accumalted on 0."
   ]
  },
  {
   "cell_type": "markdown",
   "metadata": {},
   "source": [
    "# Bivariate Analaysis using histrograms"
   ]
  },
  {
   "cell_type": "markdown",
   "metadata": {},
   "source": [
    "#### a. Comparing Income across Workclass"
   ]
  },
  {
   "cell_type": "code",
   "execution_count": 71,
   "metadata": {},
   "outputs": [
    {
     "data": {
      "text/plain": [
       "Text(0.5, 1.0, 'Compairing number of people in both income groups across different workclass')"
      ]
     },
     "execution_count": 71,
     "metadata": {},
     "output_type": "execute_result"
    },
    {
     "data": {
      "image/png": "[encoded data removed]",
      "text/plain": [
       "<Figure size 720x360 with 1 Axes>"
      ]
     },
     "metadata": {
      "needs_background": "light"
     },
     "output_type": "display_data"
    }
   ],
   "source": [
    "fig = plt.figure(figsize=(10,5))\n",
    "sns.countplot(x='Workclass',hue ='Income',data=df).set_title(\"Compairing number of people in both income groups across different workclass\")"
   ]
  },
  {
   "cell_type": "markdown",
   "metadata": {},
   "source": [
    "In all the workclasses, the number of people earning <=50k is more than those having income more than 50k. From the figure above, it can also be concluded that data seems to mainly consist private employees "
   ]
  },
  {
   "cell_type": "markdown",
   "metadata": {},
   "source": [
    "#### b. Compairing Income across different races and sex"
   ]
  },
  {
   "cell_type": "code",
   "execution_count": 72,
   "metadata": {},
   "outputs": [
    {
     "data": {
      "text/plain": [
       "<Figure size 1440x360 with 0 Axes>"
      ]
     },
     "metadata": {},
     "output_type": "display_data"
    },
    {
     "data": {
      "image/png": "[encoded data removed]",
      "text/plain": [
       "<Figure size 791.875x360 with 2 Axes>"
      ]
     },
     "metadata": {
      "needs_background": "light"
     },
     "output_type": "display_data"
    }
   ],
   "source": [
    "plt.figure(figsize=(20,5))\n",
    "sns.catplot(y=\"Race\", hue=\"Income\", kind=\"count\",col=\"Sex\", data=df);"
   ]
  },
  {
   "cell_type": "markdown",
   "metadata": {},
   "source": [
    "From the graph aboce, it is quite evident that males in sex and whites in race has the maximum number of  people with income more thamn 50k."
   ]
  },
  {
   "cell_type": "markdown",
   "metadata": {},
   "source": [
    "#### Converting categorical variables "
   ]
  },
  {
   "cell_type": "code",
   "execution_count": 73,
   "metadata": {},
   "outputs": [
    {
     "name": "stderr",
     "output_type": "stream",
     "text": [
      "c:\\users\\lenovo\\anaconda3\\envs\\geospatial\\lib\\site-packages\\ipykernel_launcher.py:4: SettingWithCopyWarning: \n",
      "A value is trying to be set on a copy of a slice from a DataFrame.\n",
      "Try using .loc[row_indexer,col_indexer] = value instead\n",
      "\n",
      "See the caveats in the documentation: https://pandas.pydata.org/pandas-docs/stable/user_guide/indexing.html#returning-a-view-versus-a-copy\n",
      "  after removing the cwd from sys.path.\n",
      "c:\\users\\lenovo\\anaconda3\\envs\\geospatial\\lib\\site-packages\\ipykernel_launcher.py:9: SettingWithCopyWarning: \n",
      "A value is trying to be set on a copy of a slice from a DataFrame.\n",
      "Try using .loc[row_indexer,col_indexer] = value instead\n",
      "\n",
      "See the caveats in the documentation: https://pandas.pydata.org/pandas-docs/stable/user_guide/indexing.html#returning-a-view-versus-a-copy\n",
      "  if __name__ == '__main__':\n",
      "c:\\users\\lenovo\\anaconda3\\envs\\geospatial\\lib\\site-packages\\ipykernel_launcher.py:14: SettingWithCopyWarning: \n",
      "A value is trying to be set on a copy of a slice from a DataFrame.\n",
      "Try using .loc[row_indexer,col_indexer] = value instead\n",
      "\n",
      "See the caveats in the documentation: https://pandas.pydata.org/pandas-docs/stable/user_guide/indexing.html#returning-a-view-versus-a-copy\n",
      "  \n",
      "c:\\users\\lenovo\\anaconda3\\envs\\geospatial\\lib\\site-packages\\ipykernel_launcher.py:17: SettingWithCopyWarning: \n",
      "A value is trying to be set on a copy of a slice from a DataFrame.\n",
      "Try using .loc[row_indexer,col_indexer] = value instead\n",
      "\n",
      "See the caveats in the documentation: https://pandas.pydata.org/pandas-docs/stable/user_guide/indexing.html#returning-a-view-versus-a-copy\n",
      "c:\\users\\lenovo\\anaconda3\\envs\\geospatial\\lib\\site-packages\\ipykernel_launcher.py:27: SettingWithCopyWarning: \n",
      "A value is trying to be set on a copy of a slice from a DataFrame.\n",
      "Try using .loc[row_indexer,col_indexer] = value instead\n",
      "\n",
      "See the caveats in the documentation: https://pandas.pydata.org/pandas-docs/stable/user_guide/indexing.html#returning-a-view-versus-a-copy\n"
     ]
    },
    {
     "data": {
      "text/plain": [
       "Age                            int64\n",
       "Workclass                     object\n",
       "Final Weight                 float64\n",
       "Education                      int64\n",
       "Education Number of Years      int64\n",
       "Marital-status                 int64\n",
       "Occupation                    object\n",
       "Relationship                  object\n",
       "Race                          object\n",
       "Sex                            int64\n",
       "Capital-gain                   int64\n",
       "Capital-loss                   int64\n",
       "Hours-per-week                 int64\n",
       "Native-country                 int64\n",
       "Income                         int64\n",
       "dtype: object"
      ]
     },
     "execution_count": 73,
     "metadata": {},
     "output_type": "execute_result"
    }
   ],
   "source": [
    "#lets recode bi-variate variables into binary\n",
    "#converts sex\n",
    "sex_dict = {'Male': 0, 'Female': 1}\n",
    "df[\"Sex\"] = df[\"Sex\"].map(sex_dict)\n",
    "pd.to_numeric(df['Sex'])\n",
    "\n",
    "#convert income\n",
    "income_dict = {'<=50K' : 0, '>50K' : 1}\n",
    "df['Income']= df[\"Income\"].map(income_dict)\n",
    "pd.to_numeric(df['Income'])\n",
    "\n",
    "#converts marriage\n",
    "marrige_dict = {'Divorced' : 0 ,'Married-AF-spouse' : 1,'Married-civ-spouse' : 1,'Married-spouse-absent' : 1, 'Never-married' : 0,'Separated' : 0,'Widowed' : 0}\n",
    "df[\"Marital-status\"] = df[\"Marital-status\"].map(marrige_dict)\n",
    "pd.to_numeric(df['Income'])\n",
    "education_dict = {'Bachelors' : 13, 'Prof-school' : 15, 'HS-grad' :9, '5th-6th' : 3, '12th' : 8, '9th' : 5, 'Doctorate' : 16, '11th' : 7, 'Some-college' : 10, 'Assoc-voc' : 11, 'Preschool' : 1, '1st-4th' : 2, 'Assoc-acdm' : 12, 'Masters' : 14, '7th-8th' : 4, '10th' : 6}\n",
    "df['Education']= df[\"Education\"].map(education_dict)\n",
    "pd.to_numeric(df[\"Education\"])\n",
    "\n",
    "#As native country is dominated by the United States, let us convert the attibiute into a bivariate variable, where 0 represents the US and 1 respresents any other country.\n",
    "country_dict = {}\n",
    "for country in df['Native-country'].values:\n",
    "    if country == 'United-States':\n",
    "        country_dict[country] = 0\n",
    "    else:\n",
    "        country_dict[country] = 1\n",
    "df[\"Native-country\"] = df[\"Native-country\"].map(country_dict)\n",
    "pd.to_numeric(df[\"Education\"])\n",
    "df.dtypes\n",
    "\n"
   ]
  },
  {
   "cell_type": "markdown",
   "metadata": {},
   "source": [
    "Let's group occupation in accordance to the ISCO international standards in order to reduce the number of variables in hot one encodings.\n",
    "https://ilostat.ilo.org/resources/concepts-and-definitions/classification-occupation/"
   ]
  },
  {
   "cell_type": "code",
   "execution_count": 74,
   "metadata": {
    "scrolled": true
   },
   "outputs": [
    {
     "name": "stderr",
     "output_type": "stream",
     "text": [
      "c:\\users\\lenovo\\anaconda3\\envs\\geospatial\\lib\\site-packages\\ipykernel_launcher.py:16: SettingWithCopyWarning: \n",
      "A value is trying to be set on a copy of a slice from a DataFrame.\n",
      "Try using .loc[row_indexer,col_indexer] = value instead\n",
      "\n",
      "See the caveats in the documentation: https://pandas.pydata.org/pandas-docs/stable/user_guide/indexing.html#returning-a-view-versus-a-copy\n",
      "  app.launch_new_instance()\n"
     ]
    }
   ],
   "source": [
    "occupation_dict = {\n",
    "    'Adm-clerical' : 'Level 3',\n",
    "    'Exec-managerial' : 'Level 4',\n",
    "    'Handlers-cleaners': 'Level 1',\n",
    "    'Prof-specialty' :'Level 4',\n",
    "    'Other-service' : 'Level 3',\n",
    "    'Sales' : 'Level 3',\n",
    "    'Transport-moving': 'Level 1',\n",
    "    'Farming-fishing' : 'Level 2',\n",
    "    'Machine-op-inspct' : 'Level 2',\n",
    "    'Tech-support': 'Level 4',\n",
    "    'Craft-repair' : 'Level 2', \n",
    "    'Protective-serv': 'Level 2',\n",
    "    'Armed-Forces' : 'Level 0',\n",
    "    'Priv-house-serv' : \"Level 1\"}\n",
    "df[\"Occupation\"] = df[\"Occupation\"].map(occupation_dict)\n"
   ]
  },
  {
   "cell_type": "markdown",
   "metadata": {},
   "source": [
    "## One-Hot Encoder"
   ]
  },
  {
   "cell_type": "markdown",
   "metadata": {},
   "source": [
    "Lets group other attributes in order the reduce the number of variables after hot one encoding. "
   ]
  },
  {
   "cell_type": "code",
   "execution_count": 75,
   "metadata": {},
   "outputs": [
    {
     "name": "stderr",
     "output_type": "stream",
     "text": [
      "c:\\users\\lenovo\\anaconda3\\envs\\geospatial\\lib\\site-packages\\ipykernel_launcher.py:2: SettingWithCopyWarning: \n",
      "A value is trying to be set on a copy of a slice from a DataFrame.\n",
      "Try using .loc[row_indexer,col_indexer] = value instead\n",
      "\n",
      "See the caveats in the documentation: https://pandas.pydata.org/pandas-docs/stable/user_guide/indexing.html#returning-a-view-versus-a-copy\n",
      "  \n",
      "c:\\users\\lenovo\\anaconda3\\envs\\geospatial\\lib\\site-packages\\ipykernel_launcher.py:4: SettingWithCopyWarning: \n",
      "A value is trying to be set on a copy of a slice from a DataFrame.\n",
      "Try using .loc[row_indexer,col_indexer] = value instead\n",
      "\n",
      "See the caveats in the documentation: https://pandas.pydata.org/pandas-docs/stable/user_guide/indexing.html#returning-a-view-versus-a-copy\n",
      "  after removing the cwd from sys.path.\n"
     ]
    }
   ],
   "source": [
    "\n",
    "workclass_dict = {'Federal-gov' : 'Government', 'Local-gov' :\"Government\" , 'Private' : 'Private', 'Self-emp-inc': \"Self-Employed\",'Self-emp-not-inc': \"Self-Employed\", 'State-gov' : 'Government', 'Without-pay' : 'Other'}\n",
    "df[\"Workclass\"] = df[\"Workclass\"].map(workclass_dict)\n",
    "relationship_dict = {'Husband' : 'Husband', 'Not-in-family': 'Not-in-Family', 'Other-relative' : 'Other', 'Own-child': 'Child', 'Unmarried': 'Not-in-family', 'Wife' : 'Wife'}\n",
    "df[\"Relationship\"] = df[\"Relationship\"].map(relationship_dict)"
   ]
  },
  {
   "cell_type": "code",
   "execution_count": 171,
   "metadata": {},
   "outputs": [],
   "source": [
    "# #lets convert capital gain and capital loss into net capital gain\n",
    "# df['Net-capital-gain'] = df['Capital-gain'] - df['Capital-loss']\n",
    "# df = df.drop(columns=['Capital-gain', 'Capital-loss'])\n",
    "# df['Net-capital-gain'].hist(figsize=(5,5))"
   ]
  },
  {
   "cell_type": "markdown",
   "metadata": {},
   "source": [
    "## Correlation Matrix"
   ]
  },
  {
   "cell_type": "code",
   "execution_count": 76,
   "metadata": {},
   "outputs": [
    {
     "data": {
      "image/png": "[encoded data removed]",
      "text/plain": [
       "<Figure size 2160x864 with 2 Axes>"
      ]
     },
     "metadata": {
      "needs_background": "light"
     },
     "output_type": "display_data"
    }
   ],
   "source": [
    "#creates a correlation matrix for the numerical variables\n",
    "corrMatrix = df.corr()\n",
    "plt.figure(figsize=(30,12))\n",
    "sns.heatmap(corrMatrix, annot=True)\n",
    "plt.show()"
   ]
  },
  {
   "cell_type": "markdown",
   "metadata": {},
   "source": [
    "The correlation matrix shows a 1:1 correlation between the  Education Number of Yeats and Education attributes. In addition, the correlation those variables have with the rest of the attributes is also equivalent. As such it is reasonable to assume that the education number of years was not recorded and instead was estimated in a similar way to how we have done so. As such, we decided to drop it."
   ]
  },
  {
   "cell_type": "code",
   "execution_count": 77,
   "metadata": {},
   "outputs": [
    {
     "data": {
      "text/html": [
       "<div>\n",
       "<style scoped>\n",
       "    .dataframe tbody tr th:only-of-type {\n",
       "        vertical-align: middle;\n",
       "    }\n",
       "\n",
       "    .dataframe tbody tr th {\n",
       "        vertical-align: top;\n",
       "    }\n",
       "\n",
       "    .dataframe thead th {\n",
       "        text-align: right;\n",
       "    }\n",
       "</style>\n",
       "<table border=\"1\" class=\"dataframe\">\n",
       "  <thead>\n",
       "    <tr style=\"text-align: right;\">\n",
       "      <th></th>\n",
       "      <th>Age</th>\n",
       "      <th>Workclass</th>\n",
       "      <th>Final Weight</th>\n",
       "      <th>Education</th>\n",
       "      <th>Marital-status</th>\n",
       "      <th>Occupation</th>\n",
       "      <th>Relationship</th>\n",
       "      <th>Race</th>\n",
       "      <th>Sex</th>\n",
       "      <th>Capital-gain</th>\n",
       "      <th>Capital-loss</th>\n",
       "      <th>Hours-per-week</th>\n",
       "      <th>Native-country</th>\n",
       "      <th>Income</th>\n",
       "    </tr>\n",
       "  </thead>\n",
       "  <tbody>\n",
       "    <tr>\n",
       "      <th>0</th>\n",
       "      <td>39</td>\n",
       "      <td>Government</td>\n",
       "      <td>0.000009</td>\n",
       "      <td>13</td>\n",
       "      <td>0</td>\n",
       "      <td>Level 3</td>\n",
       "      <td>Not-in-Family</td>\n",
       "      <td>White</td>\n",
       "      <td>0</td>\n",
       "      <td>2174</td>\n",
       "      <td>0</td>\n",
       "      <td>40</td>\n",
       "      <td>0</td>\n",
       "      <td>0</td>\n",
       "    </tr>\n",
       "    <tr>\n",
       "      <th>1</th>\n",
       "      <td>50</td>\n",
       "      <td>Self-Employed</td>\n",
       "      <td>0.000010</td>\n",
       "      <td>13</td>\n",
       "      <td>1</td>\n",
       "      <td>Level 4</td>\n",
       "      <td>Husband</td>\n",
       "      <td>White</td>\n",
       "      <td>0</td>\n",
       "      <td>0</td>\n",
       "      <td>0</td>\n",
       "      <td>13</td>\n",
       "      <td>0</td>\n",
       "      <td>0</td>\n",
       "    </tr>\n",
       "    <tr>\n",
       "      <th>2</th>\n",
       "      <td>38</td>\n",
       "      <td>Private</td>\n",
       "      <td>0.000025</td>\n",
       "      <td>9</td>\n",
       "      <td>0</td>\n",
       "      <td>Level 1</td>\n",
       "      <td>Not-in-Family</td>\n",
       "      <td>White</td>\n",
       "      <td>0</td>\n",
       "      <td>0</td>\n",
       "      <td>0</td>\n",
       "      <td>40</td>\n",
       "      <td>0</td>\n",
       "      <td>0</td>\n",
       "    </tr>\n",
       "    <tr>\n",
       "      <th>3</th>\n",
       "      <td>53</td>\n",
       "      <td>Private</td>\n",
       "      <td>0.000027</td>\n",
       "      <td>7</td>\n",
       "      <td>1</td>\n",
       "      <td>Level 1</td>\n",
       "      <td>Husband</td>\n",
       "      <td>Black</td>\n",
       "      <td>0</td>\n",
       "      <td>0</td>\n",
       "      <td>0</td>\n",
       "      <td>40</td>\n",
       "      <td>0</td>\n",
       "      <td>0</td>\n",
       "    </tr>\n",
       "    <tr>\n",
       "      <th>4</th>\n",
       "      <td>28</td>\n",
       "      <td>Private</td>\n",
       "      <td>0.000039</td>\n",
       "      <td>13</td>\n",
       "      <td>1</td>\n",
       "      <td>Level 4</td>\n",
       "      <td>Wife</td>\n",
       "      <td>Black</td>\n",
       "      <td>1</td>\n",
       "      <td>0</td>\n",
       "      <td>0</td>\n",
       "      <td>40</td>\n",
       "      <td>1</td>\n",
       "      <td>0</td>\n",
       "    </tr>\n",
       "    <tr>\n",
       "      <th>...</th>\n",
       "      <td>...</td>\n",
       "      <td>...</td>\n",
       "      <td>...</td>\n",
       "      <td>...</td>\n",
       "      <td>...</td>\n",
       "      <td>...</td>\n",
       "      <td>...</td>\n",
       "      <td>...</td>\n",
       "      <td>...</td>\n",
       "      <td>...</td>\n",
       "      <td>...</td>\n",
       "      <td>...</td>\n",
       "      <td>...</td>\n",
       "      <td>...</td>\n",
       "    </tr>\n",
       "    <tr>\n",
       "      <th>16275</th>\n",
       "      <td>33</td>\n",
       "      <td>Private</td>\n",
       "      <td>0.000029</td>\n",
       "      <td>13</td>\n",
       "      <td>0</td>\n",
       "      <td>Level 4</td>\n",
       "      <td>Child</td>\n",
       "      <td>White</td>\n",
       "      <td>0</td>\n",
       "      <td>0</td>\n",
       "      <td>0</td>\n",
       "      <td>40</td>\n",
       "      <td>0</td>\n",
       "      <td>0</td>\n",
       "    </tr>\n",
       "    <tr>\n",
       "      <th>16276</th>\n",
       "      <td>39</td>\n",
       "      <td>Private</td>\n",
       "      <td>0.000025</td>\n",
       "      <td>13</td>\n",
       "      <td>0</td>\n",
       "      <td>Level 4</td>\n",
       "      <td>Not-in-Family</td>\n",
       "      <td>White</td>\n",
       "      <td>1</td>\n",
       "      <td>0</td>\n",
       "      <td>0</td>\n",
       "      <td>36</td>\n",
       "      <td>0</td>\n",
       "      <td>0</td>\n",
       "    </tr>\n",
       "    <tr>\n",
       "      <th>16278</th>\n",
       "      <td>38</td>\n",
       "      <td>Private</td>\n",
       "      <td>0.000044</td>\n",
       "      <td>13</td>\n",
       "      <td>1</td>\n",
       "      <td>Level 4</td>\n",
       "      <td>Husband</td>\n",
       "      <td>White</td>\n",
       "      <td>0</td>\n",
       "      <td>0</td>\n",
       "      <td>0</td>\n",
       "      <td>50</td>\n",
       "      <td>0</td>\n",
       "      <td>0</td>\n",
       "    </tr>\n",
       "    <tr>\n",
       "      <th>16279</th>\n",
       "      <td>44</td>\n",
       "      <td>Private</td>\n",
       "      <td>0.000010</td>\n",
       "      <td>13</td>\n",
       "      <td>0</td>\n",
       "      <td>Level 3</td>\n",
       "      <td>Child</td>\n",
       "      <td>Asian-Pac-Islander</td>\n",
       "      <td>0</td>\n",
       "      <td>5455</td>\n",
       "      <td>0</td>\n",
       "      <td>40</td>\n",
       "      <td>0</td>\n",
       "      <td>0</td>\n",
       "    </tr>\n",
       "    <tr>\n",
       "      <th>16280</th>\n",
       "      <td>35</td>\n",
       "      <td>Self-Employed</td>\n",
       "      <td>0.000021</td>\n",
       "      <td>13</td>\n",
       "      <td>1</td>\n",
       "      <td>Level 4</td>\n",
       "      <td>Husband</td>\n",
       "      <td>White</td>\n",
       "      <td>0</td>\n",
       "      <td>0</td>\n",
       "      <td>0</td>\n",
       "      <td>60</td>\n",
       "      <td>0</td>\n",
       "      <td>1</td>\n",
       "    </tr>\n",
       "  </tbody>\n",
       "</table>\n",
       "<p>45175 rows × 14 columns</p>\n",
       "</div>"
      ],
      "text/plain": [
       "       Age      Workclass  Final Weight  Education  Marital-status Occupation  \\\n",
       "0       39     Government      0.000009         13               0    Level 3   \n",
       "1       50  Self-Employed      0.000010         13               1    Level 4   \n",
       "2       38        Private      0.000025          9               0    Level 1   \n",
       "3       53        Private      0.000027          7               1    Level 1   \n",
       "4       28        Private      0.000039         13               1    Level 4   \n",
       "...    ...            ...           ...        ...             ...        ...   \n",
       "16275   33        Private      0.000029         13               0    Level 4   \n",
       "16276   39        Private      0.000025         13               0    Level 4   \n",
       "16278   38        Private      0.000044         13               1    Level 4   \n",
       "16279   44        Private      0.000010         13               0    Level 3   \n",
       "16280   35  Self-Employed      0.000021         13               1    Level 4   \n",
       "\n",
       "        Relationship                Race  Sex  Capital-gain  Capital-loss  \\\n",
       "0      Not-in-Family               White    0          2174             0   \n",
       "1            Husband               White    0             0             0   \n",
       "2      Not-in-Family               White    0             0             0   \n",
       "3            Husband               Black    0             0             0   \n",
       "4               Wife               Black    1             0             0   \n",
       "...              ...                 ...  ...           ...           ...   \n",
       "16275          Child               White    0             0             0   \n",
       "16276  Not-in-Family               White    1             0             0   \n",
       "16278        Husband               White    0             0             0   \n",
       "16279          Child  Asian-Pac-Islander    0          5455             0   \n",
       "16280        Husband               White    0             0             0   \n",
       "\n",
       "       Hours-per-week  Native-country  Income  \n",
       "0                  40               0       0  \n",
       "1                  13               0       0  \n",
       "2                  40               0       0  \n",
       "3                  40               0       0  \n",
       "4                  40               1       0  \n",
       "...               ...             ...     ...  \n",
       "16275              40               0       0  \n",
       "16276              36               0       0  \n",
       "16278              50               0       0  \n",
       "16279              40               0       0  \n",
       "16280              60               0       1  \n",
       "\n",
       "[45175 rows x 14 columns]"
      ]
     },
     "execution_count": 77,
     "metadata": {},
     "output_type": "execute_result"
    }
   ],
   "source": [
    "df = df.drop(columns='Education Number of Years')\n",
    "df"
   ]
  },
  {
   "cell_type": "markdown",
   "metadata": {},
   "source": [
    "Let's hot ecode categorical variables:"
   ]
  },
  {
   "cell_type": "code",
   "execution_count": 78,
   "metadata": {
    "scrolled": true
   },
   "outputs": [
    {
     "data": {
      "text/html": [
       "<div>\n",
       "<style scoped>\n",
       "    .dataframe tbody tr th:only-of-type {\n",
       "        vertical-align: middle;\n",
       "    }\n",
       "\n",
       "    .dataframe tbody tr th {\n",
       "        vertical-align: top;\n",
       "    }\n",
       "\n",
       "    .dataframe thead th {\n",
       "        text-align: right;\n",
       "    }\n",
       "</style>\n",
       "<table border=\"1\" class=\"dataframe\">\n",
       "  <thead>\n",
       "    <tr style=\"text-align: right;\">\n",
       "      <th></th>\n",
       "      <th>Age</th>\n",
       "      <th>Final Weight</th>\n",
       "      <th>Education</th>\n",
       "      <th>Marital-status</th>\n",
       "      <th>Sex</th>\n",
       "      <th>Capital-gain</th>\n",
       "      <th>Capital-loss</th>\n",
       "      <th>Hours-per-week</th>\n",
       "      <th>Native-country</th>\n",
       "      <th>Income</th>\n",
       "      <th>...</th>\n",
       "      <th>Workclass:_Government</th>\n",
       "      <th>Workclass:_Other</th>\n",
       "      <th>Workclass:_Private</th>\n",
       "      <th>Workclass:_Self-Employed</th>\n",
       "      <th>Relationship:_Child</th>\n",
       "      <th>Relationship:_Husband</th>\n",
       "      <th>Relationship:_Not-in-Family</th>\n",
       "      <th>Relationship:_Not-in-family</th>\n",
       "      <th>Relationship:_Other</th>\n",
       "      <th>Relationship:_Wife</th>\n",
       "    </tr>\n",
       "  </thead>\n",
       "  <tbody>\n",
       "    <tr>\n",
       "      <th>0</th>\n",
       "      <td>39</td>\n",
       "      <td>0.000009</td>\n",
       "      <td>13</td>\n",
       "      <td>0</td>\n",
       "      <td>0</td>\n",
       "      <td>2174</td>\n",
       "      <td>0</td>\n",
       "      <td>40</td>\n",
       "      <td>0</td>\n",
       "      <td>0</td>\n",
       "      <td>...</td>\n",
       "      <td>1</td>\n",
       "      <td>0</td>\n",
       "      <td>0</td>\n",
       "      <td>0</td>\n",
       "      <td>0</td>\n",
       "      <td>0</td>\n",
       "      <td>1</td>\n",
       "      <td>0</td>\n",
       "      <td>0</td>\n",
       "      <td>0</td>\n",
       "    </tr>\n",
       "    <tr>\n",
       "      <th>1</th>\n",
       "      <td>50</td>\n",
       "      <td>0.000010</td>\n",
       "      <td>13</td>\n",
       "      <td>1</td>\n",
       "      <td>0</td>\n",
       "      <td>0</td>\n",
       "      <td>0</td>\n",
       "      <td>13</td>\n",
       "      <td>0</td>\n",
       "      <td>0</td>\n",
       "      <td>...</td>\n",
       "      <td>0</td>\n",
       "      <td>0</td>\n",
       "      <td>0</td>\n",
       "      <td>1</td>\n",
       "      <td>0</td>\n",
       "      <td>1</td>\n",
       "      <td>0</td>\n",
       "      <td>0</td>\n",
       "      <td>0</td>\n",
       "      <td>0</td>\n",
       "    </tr>\n",
       "    <tr>\n",
       "      <th>2</th>\n",
       "      <td>38</td>\n",
       "      <td>0.000025</td>\n",
       "      <td>9</td>\n",
       "      <td>0</td>\n",
       "      <td>0</td>\n",
       "      <td>0</td>\n",
       "      <td>0</td>\n",
       "      <td>40</td>\n",
       "      <td>0</td>\n",
       "      <td>0</td>\n",
       "      <td>...</td>\n",
       "      <td>0</td>\n",
       "      <td>0</td>\n",
       "      <td>1</td>\n",
       "      <td>0</td>\n",
       "      <td>0</td>\n",
       "      <td>0</td>\n",
       "      <td>1</td>\n",
       "      <td>0</td>\n",
       "      <td>0</td>\n",
       "      <td>0</td>\n",
       "    </tr>\n",
       "    <tr>\n",
       "      <th>3</th>\n",
       "      <td>53</td>\n",
       "      <td>0.000027</td>\n",
       "      <td>7</td>\n",
       "      <td>1</td>\n",
       "      <td>0</td>\n",
       "      <td>0</td>\n",
       "      <td>0</td>\n",
       "      <td>40</td>\n",
       "      <td>0</td>\n",
       "      <td>0</td>\n",
       "      <td>...</td>\n",
       "      <td>0</td>\n",
       "      <td>0</td>\n",
       "      <td>1</td>\n",
       "      <td>0</td>\n",
       "      <td>0</td>\n",
       "      <td>1</td>\n",
       "      <td>0</td>\n",
       "      <td>0</td>\n",
       "      <td>0</td>\n",
       "      <td>0</td>\n",
       "    </tr>\n",
       "    <tr>\n",
       "      <th>4</th>\n",
       "      <td>28</td>\n",
       "      <td>0.000039</td>\n",
       "      <td>13</td>\n",
       "      <td>1</td>\n",
       "      <td>1</td>\n",
       "      <td>0</td>\n",
       "      <td>0</td>\n",
       "      <td>40</td>\n",
       "      <td>1</td>\n",
       "      <td>0</td>\n",
       "      <td>...</td>\n",
       "      <td>0</td>\n",
       "      <td>0</td>\n",
       "      <td>1</td>\n",
       "      <td>0</td>\n",
       "      <td>0</td>\n",
       "      <td>0</td>\n",
       "      <td>0</td>\n",
       "      <td>0</td>\n",
       "      <td>0</td>\n",
       "      <td>1</td>\n",
       "    </tr>\n",
       "    <tr>\n",
       "      <th>...</th>\n",
       "      <td>...</td>\n",
       "      <td>...</td>\n",
       "      <td>...</td>\n",
       "      <td>...</td>\n",
       "      <td>...</td>\n",
       "      <td>...</td>\n",
       "      <td>...</td>\n",
       "      <td>...</td>\n",
       "      <td>...</td>\n",
       "      <td>...</td>\n",
       "      <td>...</td>\n",
       "      <td>...</td>\n",
       "      <td>...</td>\n",
       "      <td>...</td>\n",
       "      <td>...</td>\n",
       "      <td>...</td>\n",
       "      <td>...</td>\n",
       "      <td>...</td>\n",
       "      <td>...</td>\n",
       "      <td>...</td>\n",
       "      <td>...</td>\n",
       "    </tr>\n",
       "    <tr>\n",
       "      <th>16275</th>\n",
       "      <td>33</td>\n",
       "      <td>0.000029</td>\n",
       "      <td>13</td>\n",
       "      <td>0</td>\n",
       "      <td>0</td>\n",
       "      <td>0</td>\n",
       "      <td>0</td>\n",
       "      <td>40</td>\n",
       "      <td>0</td>\n",
       "      <td>0</td>\n",
       "      <td>...</td>\n",
       "      <td>0</td>\n",
       "      <td>0</td>\n",
       "      <td>1</td>\n",
       "      <td>0</td>\n",
       "      <td>1</td>\n",
       "      <td>0</td>\n",
       "      <td>0</td>\n",
       "      <td>0</td>\n",
       "      <td>0</td>\n",
       "      <td>0</td>\n",
       "    </tr>\n",
       "    <tr>\n",
       "      <th>16276</th>\n",
       "      <td>39</td>\n",
       "      <td>0.000025</td>\n",
       "      <td>13</td>\n",
       "      <td>0</td>\n",
       "      <td>1</td>\n",
       "      <td>0</td>\n",
       "      <td>0</td>\n",
       "      <td>36</td>\n",
       "      <td>0</td>\n",
       "      <td>0</td>\n",
       "      <td>...</td>\n",
       "      <td>0</td>\n",
       "      <td>0</td>\n",
       "      <td>1</td>\n",
       "      <td>0</td>\n",
       "      <td>0</td>\n",
       "      <td>0</td>\n",
       "      <td>1</td>\n",
       "      <td>0</td>\n",
       "      <td>0</td>\n",
       "      <td>0</td>\n",
       "    </tr>\n",
       "    <tr>\n",
       "      <th>16278</th>\n",
       "      <td>38</td>\n",
       "      <td>0.000044</td>\n",
       "      <td>13</td>\n",
       "      <td>1</td>\n",
       "      <td>0</td>\n",
       "      <td>0</td>\n",
       "      <td>0</td>\n",
       "      <td>50</td>\n",
       "      <td>0</td>\n",
       "      <td>0</td>\n",
       "      <td>...</td>\n",
       "      <td>0</td>\n",
       "      <td>0</td>\n",
       "      <td>1</td>\n",
       "      <td>0</td>\n",
       "      <td>0</td>\n",
       "      <td>1</td>\n",
       "      <td>0</td>\n",
       "      <td>0</td>\n",
       "      <td>0</td>\n",
       "      <td>0</td>\n",
       "    </tr>\n",
       "    <tr>\n",
       "      <th>16279</th>\n",
       "      <td>44</td>\n",
       "      <td>0.000010</td>\n",
       "      <td>13</td>\n",
       "      <td>0</td>\n",
       "      <td>0</td>\n",
       "      <td>5455</td>\n",
       "      <td>0</td>\n",
       "      <td>40</td>\n",
       "      <td>0</td>\n",
       "      <td>0</td>\n",
       "      <td>...</td>\n",
       "      <td>0</td>\n",
       "      <td>0</td>\n",
       "      <td>1</td>\n",
       "      <td>0</td>\n",
       "      <td>1</td>\n",
       "      <td>0</td>\n",
       "      <td>0</td>\n",
       "      <td>0</td>\n",
       "      <td>0</td>\n",
       "      <td>0</td>\n",
       "    </tr>\n",
       "    <tr>\n",
       "      <th>16280</th>\n",
       "      <td>35</td>\n",
       "      <td>0.000021</td>\n",
       "      <td>13</td>\n",
       "      <td>1</td>\n",
       "      <td>0</td>\n",
       "      <td>0</td>\n",
       "      <td>0</td>\n",
       "      <td>60</td>\n",
       "      <td>0</td>\n",
       "      <td>1</td>\n",
       "      <td>...</td>\n",
       "      <td>0</td>\n",
       "      <td>0</td>\n",
       "      <td>0</td>\n",
       "      <td>1</td>\n",
       "      <td>0</td>\n",
       "      <td>1</td>\n",
       "      <td>0</td>\n",
       "      <td>0</td>\n",
       "      <td>0</td>\n",
       "      <td>0</td>\n",
       "    </tr>\n",
       "  </tbody>\n",
       "</table>\n",
       "<p>45175 rows × 30 columns</p>\n",
       "</div>"
      ],
      "text/plain": [
       "       Age  Final Weight  Education  Marital-status  Sex  Capital-gain  \\\n",
       "0       39      0.000009         13               0    0          2174   \n",
       "1       50      0.000010         13               1    0             0   \n",
       "2       38      0.000025          9               0    0             0   \n",
       "3       53      0.000027          7               1    0             0   \n",
       "4       28      0.000039         13               1    1             0   \n",
       "...    ...           ...        ...             ...  ...           ...   \n",
       "16275   33      0.000029         13               0    0             0   \n",
       "16276   39      0.000025         13               0    1             0   \n",
       "16278   38      0.000044         13               1    0             0   \n",
       "16279   44      0.000010         13               0    0          5455   \n",
       "16280   35      0.000021         13               1    0             0   \n",
       "\n",
       "       Capital-loss  Hours-per-week  Native-country  Income  ...  \\\n",
       "0                 0              40               0       0  ...   \n",
       "1                 0              13               0       0  ...   \n",
       "2                 0              40               0       0  ...   \n",
       "3                 0              40               0       0  ...   \n",
       "4                 0              40               1       0  ...   \n",
       "...             ...             ...             ...     ...  ...   \n",
       "16275             0              40               0       0  ...   \n",
       "16276             0              36               0       0  ...   \n",
       "16278             0              50               0       0  ...   \n",
       "16279             0              40               0       0  ...   \n",
       "16280             0              60               0       1  ...   \n",
       "\n",
       "       Workclass:_Government  Workclass:_Other  Workclass:_Private  \\\n",
       "0                          1                 0                   0   \n",
       "1                          0                 0                   0   \n",
       "2                          0                 0                   1   \n",
       "3                          0                 0                   1   \n",
       "4                          0                 0                   1   \n",
       "...                      ...               ...                 ...   \n",
       "16275                      0                 0                   1   \n",
       "16276                      0                 0                   1   \n",
       "16278                      0                 0                   1   \n",
       "16279                      0                 0                   1   \n",
       "16280                      0                 0                   0   \n",
       "\n",
       "       Workclass:_Self-Employed  Relationship:_Child  Relationship:_Husband  \\\n",
       "0                             0                    0                      0   \n",
       "1                             1                    0                      1   \n",
       "2                             0                    0                      0   \n",
       "3                             0                    0                      1   \n",
       "4                             0                    0                      0   \n",
       "...                         ...                  ...                    ...   \n",
       "16275                         0                    1                      0   \n",
       "16276                         0                    0                      0   \n",
       "16278                         0                    0                      1   \n",
       "16279                         0                    1                      0   \n",
       "16280                         1                    0                      1   \n",
       "\n",
       "       Relationship:_Not-in-Family  Relationship:_Not-in-family  \\\n",
       "0                                1                            0   \n",
       "1                                0                            0   \n",
       "2                                1                            0   \n",
       "3                                0                            0   \n",
       "4                                0                            0   \n",
       "...                            ...                          ...   \n",
       "16275                            0                            0   \n",
       "16276                            1                            0   \n",
       "16278                            0                            0   \n",
       "16279                            0                            0   \n",
       "16280                            0                            0   \n",
       "\n",
       "       Relationship:_Other  Relationship:_Wife  \n",
       "0                        0                   0  \n",
       "1                        0                   0  \n",
       "2                        0                   0  \n",
       "3                        0                   0  \n",
       "4                        0                   1  \n",
       "...                    ...                 ...  \n",
       "16275                    0                   0  \n",
       "16276                    0                   0  \n",
       "16278                    0                   0  \n",
       "16279                    0                   0  \n",
       "16280                    0                   0  \n",
       "\n",
       "[45175 rows x 30 columns]"
      ]
     },
     "execution_count": 78,
     "metadata": {},
     "output_type": "execute_result"
    }
   ],
   "source": [
    "occupation_econoding = pd.get_dummies(df['Occupation'], prefix='Occupation:')\n",
    "df = pd.concat([df,occupation_econoding],axis=1)\n",
    "df = df.drop(columns='Occupation')\n",
    "\n",
    "race_encoding = pd.get_dummies(df['Race'], prefix='Race:')\n",
    "df = pd.concat([df,race_encoding],axis=1)\n",
    "df = df.drop(columns='Race')\n",
    "\n",
    "workclass_encoding = pd.get_dummies(df['Workclass'], prefix='Workclass:')\n",
    "df = pd.concat([df,workclass_encoding],axis=1)\n",
    "df = df.drop(columns='Workclass')\n",
    "\n",
    "relationship_enconding = pd.get_dummies(df['Relationship'], prefix='Relationship:')\n",
    "df = pd.concat([df,relationship_enconding],axis=1)\n",
    "df = df.drop(columns='Relationship')\n",
    "\n",
    "df\n"
   ]
  },
  {
   "cell_type": "markdown",
   "metadata": {},
   "source": [
    "## Spliting the Dataset"
   ]
  },
  {
   "cell_type": "markdown",
   "metadata": {},
   "source": [
    "Let us split the dataset into training, testing and validation"
   ]
  },
  {
   "cell_type": "code",
   "execution_count": 79,
   "metadata": {},
   "outputs": [],
   "source": [
    "train, test = train_test_split(df, test_size=0.2, stratify= df['Income'])\n",
    "train.to_csv('train.csv', encoding='utf-8', index=False)\n",
    "test.to_csv('test.csv', encoding='utf-8', index=False)"
   ]
  }
 ],
 "metadata": {
  "interpreter": {
   "hash": "baeddd532b77911fe4d559921dd2392f1bad4fb44f01d2fc64e71d48034915bf"
  },
  "kernelspec": {
   "display_name": "Python 3 (ipykernel)",
   "language": "python",
   "name": "python3"
  },
  "language_info": {
   "codemirror_mode": {
    "name": "ipython",
    "version": 3
   },
   "file_extension": ".py",
   "mimetype": "text/x-python",
   "name": "python",
   "nbconvert_exporter": "python",
   "pygments_lexer": "ipython3",
   "version": "3.7.12"
  }
 },
 "nbformat": 4,
 "nbformat_minor": 2
}
