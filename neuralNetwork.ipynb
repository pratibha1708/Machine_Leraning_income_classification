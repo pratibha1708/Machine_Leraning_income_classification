{
 "cells": [
  {
   "cell_type": "code",
   "execution_count": 2,
   "metadata": {},
   "outputs": [],
   "source": [
    "import pandas as pd\n",
    "import numpy as np\n",
    "import seaborn as sns\n",
    "import matplotlib.pyplot as plt\n",
    "from sklearn.metrics import plot_confusion_matrix\n",
    "from sklearn.neural_network import MLPClassifier\n",
    "from sklearn.model_selection import RandomizedSearchCV\n",
    "from sklearn.metrics import classification_report\n",
    "from sklearn.metrics import f1_score, make_scorer\n",
    "from sklearn.preprocessing import StandardScaler"
   ]
  },
  {
   "cell_type": "code",
   "execution_count": 3,
   "metadata": {},
   "outputs": [],
   "source": [
    "# Read the train and test data\n",
    "train = pd.read_csv('./train.csv')\n",
    "test = pd.read_csv('./test.csv')\n",
    "# Include final weight attribute\n",
    "final_weight_train = train[\"Final Weight\"]\n",
    "# Exclude final weight attribute\n",
    "x_train = train.drop(columns = ['Income', 'Final Weight'])\n",
    "y_train = train['Income']\n",
    "# Include final weight attribute\n",
    "final_weight_test = test[\"Final Weight\"]\n",
    "# Exclude final weight attribute\n",
    "x_test = test.drop(columns =['Income', 'Final Weight'])\n",
    "y_test = test['Income']"
   ]
  },
  {
   "cell_type": "markdown",
   "metadata": {},
   "source": [
    "<h1>Neural Networks:</h1>"
   ]
  },
  {
   "cell_type": "markdown",
   "metadata": {},
   "source": [
    "<h5>Data Preprocessing</h5>"
   ]
  },
  {
   "cell_type": "code",
   "execution_count": 4,
   "metadata": {},
   "outputs": [],
   "source": [
    "# Standerdized the data since neural network is sensitive to feature scaling\n",
    "stds = StandardScaler()\n",
    "stds.fit(x_train)\n",
    "x_train = stds.transform(x_train)\n",
    "x_test = stds.transform(x_test)"
   ]
  },
  {
   "cell_type": "markdown",
   "metadata": {},
   "source": [
    "<h5>Traning on a relative complex network</h5>"
   ]
  },
  {
   "cell_type": "markdown",
   "metadata": {},
   "source": [
    "Created an instance of the Multilayer perceptron (MLP) artificial nerual network with 4 layers with 100 neurons in each layer"
   ]
  },
  {
   "cell_type": "markdown",
   "metadata": {},
   "source": [
    "hidden_layer_sizes: (100, 100, 100, 100)  # one hidden layer with 400 neurons  \n",
    "activation: \"tanh\"  # hidden layer activation function   \n",
    "solver: \"adam\"  # weight optimization method (adam is a stochastic gradient descent optimizer)  \n",
    "batch_size: 200 # batch sizde for minibatch gradient descent  \n",
    "learning_rate_init: 0.001 # initial learning rate  \n",
    "learning_rate: \"constant\" # constant 0.001  \n",
    "max_iter: 200 # Maximum num of epochs\n",
    "momentum :0.9 # Momentum for gradient descent update  \n",
    "alpha: \"0.0001\"  # for regularization    "
   ]
  },
  {
   "cell_type": "code",
   "execution_count": 5,
   "metadata": {},
   "outputs": [],
   "source": [
    "complex_mlp = MLPClassifier(hidden_layer_sizes=(100,100,100,100), activation=\"tanh\", max_iter=400)"
   ]
  },
  {
   "cell_type": "markdown",
   "metadata": {},
   "source": [
    "Train the model using training set"
   ]
  },
  {
   "cell_type": "code",
   "execution_count": 6,
   "metadata": {},
   "outputs": [
    {
     "data": {
      "text/plain": [
       "MLPClassifier(activation='tanh', hidden_layer_sizes=(100, 100, 100, 100),\n",
       "              max_iter=400)"
      ]
     },
     "execution_count": 6,
     "metadata": {},
     "output_type": "execute_result"
    }
   ],
   "source": [
    "complex_mlp.fit(x_train, y_train)"
   ]
  },
  {
   "cell_type": "markdown",
   "metadata": {},
   "source": [
    "Plot the loss curve"
   ]
  },
  {
   "cell_type": "code",
   "execution_count": 7,
   "metadata": {},
   "outputs": [
    {
     "data": {
      "image/png": "[encoded data removed]",
      "text/plain": [
       "<Figure size 432x288 with 1 Axes>"
      ]
     },
     "metadata": {
      "needs_background": "light"
     },
     "output_type": "display_data"
    }
   ],
   "source": [
    "plt.plot(complex_mlp.loss_curve_)\n",
    "plt.title(\"Loss Curve\", fontsize=14)\n",
    "plt.xlabel('Iterations')\n",
    "plt.ylabel('Cost')\n",
    "plt.show()"
   ]
  },
  {
   "cell_type": "code",
   "execution_count": 8,
   "metadata": {},
   "outputs": [
    {
     "data": {
      "text/plain": [
       "'logistic'"
      ]
     },
     "execution_count": 8,
     "metadata": {},
     "output_type": "execute_result"
    }
   ],
   "source": [
    "# Activation function for output layer\n",
    "complex_mlp.out_activation_"
   ]
  },
  {
   "cell_type": "code",
   "execution_count": 9,
   "metadata": {},
   "outputs": [
    {
     "data": {
      "text/plain": [
       "'tanh'"
      ]
     },
     "execution_count": 9,
     "metadata": {},
     "output_type": "execute_result"
    }
   ],
   "source": [
    "# Activation function for hidden layers\n",
    "complex_mlp.activation"
   ]
  },
  {
   "cell_type": "markdown",
   "metadata": {},
   "source": [
    "Make prediction on the training set"
   ]
  },
  {
   "cell_type": "code",
   "execution_count": 10,
   "metadata": {},
   "outputs": [],
   "source": [
    "y_pred_train = complex_mlp.predict(x_train)"
   ]
  },
  {
   "cell_type": "markdown",
   "metadata": {},
   "source": [
    "Showing the confusion matrix for the results of training set"
   ]
  },
  {
   "cell_type": "code",
   "execution_count": 11,
   "metadata": {},
   "outputs": [
    {
     "name": "stderr",
     "output_type": "stream",
     "text": [
      "C:\\environment\\Anaconda\\envs\\ml\\lib\\site-packages\\sklearn\\utils\\deprecation.py:87: FutureWarning: Function plot_confusion_matrix is deprecated; Function `plot_confusion_matrix` is deprecated in 1.0 and will be removed in 1.2. Use one of the class methods: ConfusionMatrixDisplay.from_predictions or ConfusionMatrixDisplay.from_estimator.\n",
      "  warnings.warn(msg, category=FutureWarning)\n"
     ]
    },
    {
     "data": {
      "image/png": "[encoded data removed]",
      "text/plain": [
       "<Figure size 432x288 with 2 Axes>"
      ]
     },
     "metadata": {
      "needs_background": "light"
     },
     "output_type": "display_data"
    }
   ],
   "source": [
    "plot_confusion_matrix(complex_mlp, x_train, y_train)\n",
    "plt.show()"
   ]
  },
  {
   "cell_type": "code",
   "execution_count": 12,
   "metadata": {
    "scrolled": false
   },
   "outputs": [
    {
     "name": "stdout",
     "output_type": "stream",
     "text": [
      "              precision    recall  f1-score   support\n",
      "\n",
      "           0       0.95      0.96      0.96     27178\n",
      "           1       0.88      0.85      0.86      8962\n",
      "\n",
      "    accuracy                           0.93     36140\n",
      "   macro avg       0.92      0.90      0.91     36140\n",
      "weighted avg       0.93      0.93      0.93     36140\n",
      "\n"
     ]
    }
   ],
   "source": [
    "print(classification_report(y_train, y_pred_train))"
   ]
  },
  {
   "cell_type": "markdown",
   "metadata": {},
   "source": [
    "<h5>Verify the complex MLP model on the test set</h5>"
   ]
  },
  {
   "cell_type": "code",
   "execution_count": 13,
   "metadata": {},
   "outputs": [],
   "source": [
    "y_pred_test = complex_mlp.predict(x_test)"
   ]
  },
  {
   "cell_type": "code",
   "execution_count": 14,
   "metadata": {},
   "outputs": [
    {
     "name": "stderr",
     "output_type": "stream",
     "text": [
      "C:\\environment\\Anaconda\\envs\\ml\\lib\\site-packages\\sklearn\\utils\\deprecation.py:87: FutureWarning: Function plot_confusion_matrix is deprecated; Function `plot_confusion_matrix` is deprecated in 1.0 and will be removed in 1.2. Use one of the class methods: ConfusionMatrixDisplay.from_predictions or ConfusionMatrixDisplay.from_estimator.\n",
      "  warnings.warn(msg, category=FutureWarning)\n"
     ]
    },
    {
     "data": {
      "image/png": "[encoded data removed]",
      "text/plain": [
       "<Figure size 432x288 with 2 Axes>"
      ]
     },
     "metadata": {
      "needs_background": "light"
     },
     "output_type": "display_data"
    }
   ],
   "source": [
    "plot_confusion_matrix(complex_mlp, x_test, y_test)\n",
    "\n",
    "plt.show()"
   ]
  },
  {
   "cell_type": "code",
   "execution_count": 16,
   "metadata": {
    "scrolled": true
   },
   "outputs": [
    {
     "name": "stdout",
     "output_type": "stream",
     "text": [
      "              precision    recall  f1-score   support\n",
      "\n",
      "           0       0.88      0.90      0.89      6795\n",
      "           1       0.67      0.62      0.65      2240\n",
      "\n",
      "    accuracy                           0.83      9035\n",
      "   macro avg       0.77      0.76      0.77      9035\n",
      "weighted avg       0.83      0.83      0.83      9035\n",
      "\n"
     ]
    }
   ],
   "source": [
    "print(classification_report(y_test, y_pred_test))"
   ]
  },
  {
   "cell_type": "markdown",
   "metadata": {},
   "source": [
    "The dataset is highly unbanlanced. We care more about the performance on the minority class which is 1. The precision, recall, f1 score are all dropped significantly indicating strong overfitting. "
   ]
  },
  {
   "cell_type": "markdown",
   "metadata": {},
   "source": [
    "<h3>Hyper Parameter Tuning</h3>"
   ]
  },
  {
   "cell_type": "code",
   "execution_count": 71,
   "metadata": {},
   "outputs": [],
   "source": [
    "# optimal number of layers for simple problem -- 1 layer\n",
    "# optimal neuron in each layer: 2/3*(size of input layer) + size of output layer = 19 or 20; so ranging from 16-25\n",
    "# As the input feature is decresing \n",
    "param_grid = {\n",
    "    \"hidden_layer_sizes\": [(16),(17),(18),(19),(20),(21),(22),(23),(24),(25)],\n",
    "    \"activation\": [\"tanh\", \"relu\", \"logistic\"],\n",
    "    \"solver\": [\"sgd\", \"adam\"],\n",
    "    \"alpha\":[0.1, 0.01, 0.001, 0.0001],\n",
    "    \"learning_rate_init\": np.arange(0.01, 0.1, 0.02)\n",
    "}\n",
    "# batch_size = 200 by default\n",
    "# 10 * 3 * 2 * 4 * 5  = 1200"
   ]
  },
  {
   "cell_type": "code",
   "execution_count": 72,
   "metadata": {},
   "outputs": [],
   "source": [
    "mlp = MLPClassifier()"
   ]
  },
  {
   "cell_type": "code",
   "execution_count": 73,
   "metadata": {
    "scrolled": true
   },
   "outputs": [],
   "source": [
    "# Five fold cross validation to find out the best set of parameters\n",
    "# try to maximize the f1-score on the positve class when doing 5-fold cross validation\n",
    "f1 = make_scorer(f1_score , average='binary', pos_label = 1)\n",
    "rs_cv = RandomizedSearchCV(mlp, param_grid, verbose=10, n_jobs=-1, cv=5, n_iter=200, scoring=f1)"
   ]
  },
  {
   "cell_type": "code",
   "execution_count": 74,
   "metadata": {},
   "outputs": [
    {
     "name": "stdout",
     "output_type": "stream",
     "text": [
      "Fitting 5 folds for each of 200 candidates, totalling 1000 fits\n"
     ]
    },
    {
     "data": {
      "text/plain": [
       "RandomizedSearchCV(cv=5, estimator=MLPClassifier(), n_iter=200, n_jobs=-1,\n",
       "                   param_distributions={'activation': ['tanh', 'relu',\n",
       "                                                       'logistic'],\n",
       "                                        'alpha': [0.1, 0.01, 0.001, 0.0001],\n",
       "                                        'hidden_layer_sizes': [16, 17, 18, 19,\n",
       "                                                               20, 21, 22, 23,\n",
       "                                                               24, 25],\n",
       "                                        'learning_rate_init': array([0.01, 0.03, 0.05, 0.07, 0.09]),\n",
       "                                        'solver': ['sgd', 'adam']},\n",
       "                   scoring=make_scorer(f1_score, average=binary, pos_label=1),\n",
       "                   verbose=10)"
      ]
     },
     "execution_count": 74,
     "metadata": {},
     "output_type": "execute_result"
    }
   ],
   "source": [
    "rs_cv.fit(x_train,y_train)"
   ]
  },
  {
   "cell_type": "code",
   "execution_count": 75,
   "metadata": {},
   "outputs": [
    {
     "data": {
      "text/plain": [
       "{'solver': 'sgd',\n",
       " 'learning_rate_init': 0.08999999999999998,\n",
       " 'hidden_layer_sizes': 23,\n",
       " 'alpha': 0.1,\n",
       " 'activation': 'relu'}"
      ]
     },
     "execution_count": 75,
     "metadata": {},
     "output_type": "execute_result"
    }
   ],
   "source": [
    "rs_cv.best_params_"
   ]
  },
  {
   "cell_type": "code",
   "execution_count": 76,
   "metadata": {},
   "outputs": [
    {
     "data": {
      "text/html": [
       "<div>\n",
       "<style scoped>\n",
       "    .dataframe tbody tr th:only-of-type {\n",
       "        vertical-align: middle;\n",
       "    }\n",
       "\n",
       "    .dataframe tbody tr th {\n",
       "        vertical-align: top;\n",
       "    }\n",
       "\n",
       "    .dataframe thead th {\n",
       "        text-align: right;\n",
       "    }\n",
       "</style>\n",
       "<table border=\"1\" class=\"dataframe\">\n",
       "  <thead>\n",
       "    <tr style=\"text-align: right;\">\n",
       "      <th></th>\n",
       "      <th>mean_fit_time</th>\n",
       "      <th>std_fit_time</th>\n",
       "      <th>mean_score_time</th>\n",
       "      <th>std_score_time</th>\n",
       "      <th>param_solver</th>\n",
       "      <th>param_learning_rate_init</th>\n",
       "      <th>param_hidden_layer_sizes</th>\n",
       "      <th>param_alpha</th>\n",
       "      <th>param_activation</th>\n",
       "      <th>params</th>\n",
       "      <th>split0_test_score</th>\n",
       "      <th>split1_test_score</th>\n",
       "      <th>split2_test_score</th>\n",
       "      <th>split3_test_score</th>\n",
       "      <th>split4_test_score</th>\n",
       "      <th>mean_test_score</th>\n",
       "      <th>std_test_score</th>\n",
       "      <th>rank_test_score</th>\n",
       "    </tr>\n",
       "  </thead>\n",
       "  <tbody>\n",
       "    <tr>\n",
       "      <th>0</th>\n",
       "      <td>2.545925</td>\n",
       "      <td>0.485200</td>\n",
       "      <td>0.00924</td>\n",
       "      <td>7.297930e-04</td>\n",
       "      <td>adam</td>\n",
       "      <td>0.09</td>\n",
       "      <td>23</td>\n",
       "      <td>0.0001</td>\n",
       "      <td>tanh</td>\n",
       "      <td>{'solver': 'adam', 'learning_rate_init': 0.089...</td>\n",
       "      <td>0.600489</td>\n",
       "      <td>0.668643</td>\n",
       "      <td>0.655532</td>\n",
       "      <td>0.535918</td>\n",
       "      <td>0.666667</td>\n",
       "      <td>0.625450</td>\n",
       "      <td>0.051202</td>\n",
       "      <td>198</td>\n",
       "    </tr>\n",
       "    <tr>\n",
       "      <th>1</th>\n",
       "      <td>7.244996</td>\n",
       "      <td>1.509577</td>\n",
       "      <td>0.00594</td>\n",
       "      <td>2.197743e-04</td>\n",
       "      <td>sgd</td>\n",
       "      <td>0.01</td>\n",
       "      <td>19</td>\n",
       "      <td>0.1</td>\n",
       "      <td>relu</td>\n",
       "      <td>{'solver': 'sgd', 'learning_rate_init': 0.01, ...</td>\n",
       "      <td>0.676737</td>\n",
       "      <td>0.652390</td>\n",
       "      <td>0.654332</td>\n",
       "      <td>0.653509</td>\n",
       "      <td>0.670762</td>\n",
       "      <td>0.661546</td>\n",
       "      <td>0.010160</td>\n",
       "      <td>122</td>\n",
       "    </tr>\n",
       "    <tr>\n",
       "      <th>2</th>\n",
       "      <td>8.131265</td>\n",
       "      <td>1.292005</td>\n",
       "      <td>0.00583</td>\n",
       "      <td>4.399778e-04</td>\n",
       "      <td>sgd</td>\n",
       "      <td>0.03</td>\n",
       "      <td>23</td>\n",
       "      <td>0.001</td>\n",
       "      <td>relu</td>\n",
       "      <td>{'solver': 'sgd', 'learning_rate_init': 0.03, ...</td>\n",
       "      <td>0.673177</td>\n",
       "      <td>0.654867</td>\n",
       "      <td>0.655970</td>\n",
       "      <td>0.663203</td>\n",
       "      <td>0.663272</td>\n",
       "      <td>0.662098</td>\n",
       "      <td>0.006560</td>\n",
       "      <td>117</td>\n",
       "    </tr>\n",
       "    <tr>\n",
       "      <th>3</th>\n",
       "      <td>8.779959</td>\n",
       "      <td>1.229502</td>\n",
       "      <td>0.00605</td>\n",
       "      <td>1.784161e-07</td>\n",
       "      <td>adam</td>\n",
       "      <td>0.01</td>\n",
       "      <td>19</td>\n",
       "      <td>0.0001</td>\n",
       "      <td>logistic</td>\n",
       "      <td>{'solver': 'adam', 'learning_rate_init': 0.01,...</td>\n",
       "      <td>0.680272</td>\n",
       "      <td>0.650227</td>\n",
       "      <td>0.652228</td>\n",
       "      <td>0.658831</td>\n",
       "      <td>0.673244</td>\n",
       "      <td>0.662960</td>\n",
       "      <td>0.011831</td>\n",
       "      <td>104</td>\n",
       "    </tr>\n",
       "    <tr>\n",
       "      <th>4</th>\n",
       "      <td>3.032478</td>\n",
       "      <td>0.692424</td>\n",
       "      <td>0.00847</td>\n",
       "      <td>5.608684e-04</td>\n",
       "      <td>adam</td>\n",
       "      <td>0.05</td>\n",
       "      <td>22</td>\n",
       "      <td>0.001</td>\n",
       "      <td>tanh</td>\n",
       "      <td>{'solver': 'adam', 'learning_rate_init': 0.049...</td>\n",
       "      <td>0.681042</td>\n",
       "      <td>0.617745</td>\n",
       "      <td>0.633900</td>\n",
       "      <td>0.653126</td>\n",
       "      <td>0.663766</td>\n",
       "      <td>0.649916</td>\n",
       "      <td>0.022192</td>\n",
       "      <td>179</td>\n",
       "    </tr>\n",
       "    <tr>\n",
       "      <th>...</th>\n",
       "      <td>...</td>\n",
       "      <td>...</td>\n",
       "      <td>...</td>\n",
       "      <td>...</td>\n",
       "      <td>...</td>\n",
       "      <td>...</td>\n",
       "      <td>...</td>\n",
       "      <td>...</td>\n",
       "      <td>...</td>\n",
       "      <td>...</td>\n",
       "      <td>...</td>\n",
       "      <td>...</td>\n",
       "      <td>...</td>\n",
       "      <td>...</td>\n",
       "      <td>...</td>\n",
       "      <td>...</td>\n",
       "      <td>...</td>\n",
       "      <td>...</td>\n",
       "    </tr>\n",
       "    <tr>\n",
       "      <th>195</th>\n",
       "      <td>2.395688</td>\n",
       "      <td>0.493581</td>\n",
       "      <td>0.00913</td>\n",
       "      <td>2.698099e-04</td>\n",
       "      <td>adam</td>\n",
       "      <td>0.07</td>\n",
       "      <td>22</td>\n",
       "      <td>0.001</td>\n",
       "      <td>tanh</td>\n",
       "      <td>{'solver': 'adam', 'learning_rate_init': 0.069...</td>\n",
       "      <td>0.637897</td>\n",
       "      <td>0.622208</td>\n",
       "      <td>0.652530</td>\n",
       "      <td>0.664464</td>\n",
       "      <td>0.655395</td>\n",
       "      <td>0.646499</td>\n",
       "      <td>0.014848</td>\n",
       "      <td>187</td>\n",
       "    </tr>\n",
       "    <tr>\n",
       "      <th>196</th>\n",
       "      <td>11.569754</td>\n",
       "      <td>1.053698</td>\n",
       "      <td>0.00704</td>\n",
       "      <td>1.451022e-03</td>\n",
       "      <td>sgd</td>\n",
       "      <td>0.01</td>\n",
       "      <td>17</td>\n",
       "      <td>0.0001</td>\n",
       "      <td>tanh</td>\n",
       "      <td>{'solver': 'sgd', 'learning_rate_init': 0.01, ...</td>\n",
       "      <td>0.670177</td>\n",
       "      <td>0.660302</td>\n",
       "      <td>0.664055</td>\n",
       "      <td>0.659341</td>\n",
       "      <td>0.670545</td>\n",
       "      <td>0.664884</td>\n",
       "      <td>0.004743</td>\n",
       "      <td>69</td>\n",
       "    </tr>\n",
       "    <tr>\n",
       "      <th>197</th>\n",
       "      <td>1.990551</td>\n",
       "      <td>0.509788</td>\n",
       "      <td>0.00550</td>\n",
       "      <td>3.479461e-04</td>\n",
       "      <td>adam</td>\n",
       "      <td>0.09</td>\n",
       "      <td>22</td>\n",
       "      <td>0.01</td>\n",
       "      <td>relu</td>\n",
       "      <td>{'solver': 'adam', 'learning_rate_init': 0.089...</td>\n",
       "      <td>0.666873</td>\n",
       "      <td>0.613636</td>\n",
       "      <td>0.653650</td>\n",
       "      <td>0.615078</td>\n",
       "      <td>0.668874</td>\n",
       "      <td>0.643622</td>\n",
       "      <td>0.024465</td>\n",
       "      <td>191</td>\n",
       "    </tr>\n",
       "    <tr>\n",
       "      <th>198</th>\n",
       "      <td>7.655299</td>\n",
       "      <td>0.724145</td>\n",
       "      <td>0.00385</td>\n",
       "      <td>2.780415e-07</td>\n",
       "      <td>sgd</td>\n",
       "      <td>0.03</td>\n",
       "      <td>25</td>\n",
       "      <td>0.01</td>\n",
       "      <td>relu</td>\n",
       "      <td>{'solver': 'sgd', 'learning_rate_init': 0.03, ...</td>\n",
       "      <td>0.678219</td>\n",
       "      <td>0.663268</td>\n",
       "      <td>0.654188</td>\n",
       "      <td>0.653652</td>\n",
       "      <td>0.674137</td>\n",
       "      <td>0.664693</td>\n",
       "      <td>0.010064</td>\n",
       "      <td>72</td>\n",
       "    </tr>\n",
       "    <tr>\n",
       "      <th>199</th>\n",
       "      <td>1.824129</td>\n",
       "      <td>0.454597</td>\n",
       "      <td>0.00649</td>\n",
       "      <td>3.956728e-03</td>\n",
       "      <td>adam</td>\n",
       "      <td>0.07</td>\n",
       "      <td>24</td>\n",
       "      <td>0.01</td>\n",
       "      <td>relu</td>\n",
       "      <td>{'solver': 'adam', 'learning_rate_init': 0.069...</td>\n",
       "      <td>0.657927</td>\n",
       "      <td>0.660753</td>\n",
       "      <td>0.657982</td>\n",
       "      <td>0.616056</td>\n",
       "      <td>0.620408</td>\n",
       "      <td>0.642625</td>\n",
       "      <td>0.019990</td>\n",
       "      <td>193</td>\n",
       "    </tr>\n",
       "  </tbody>\n",
       "</table>\n",
       "<p>200 rows × 18 columns</p>\n",
       "</div>"
      ],
      "text/plain": [
       "     mean_fit_time  std_fit_time  mean_score_time  std_score_time  \\\n",
       "0         2.545925      0.485200          0.00924    7.297930e-04   \n",
       "1         7.244996      1.509577          0.00594    2.197743e-04   \n",
       "2         8.131265      1.292005          0.00583    4.399778e-04   \n",
       "3         8.779959      1.229502          0.00605    1.784161e-07   \n",
       "4         3.032478      0.692424          0.00847    5.608684e-04   \n",
       "..             ...           ...              ...             ...   \n",
       "195       2.395688      0.493581          0.00913    2.698099e-04   \n",
       "196      11.569754      1.053698          0.00704    1.451022e-03   \n",
       "197       1.990551      0.509788          0.00550    3.479461e-04   \n",
       "198       7.655299      0.724145          0.00385    2.780415e-07   \n",
       "199       1.824129      0.454597          0.00649    3.956728e-03   \n",
       "\n",
       "    param_solver param_learning_rate_init param_hidden_layer_sizes  \\\n",
       "0           adam                     0.09                       23   \n",
       "1            sgd                     0.01                       19   \n",
       "2            sgd                     0.03                       23   \n",
       "3           adam                     0.01                       19   \n",
       "4           adam                     0.05                       22   \n",
       "..           ...                      ...                      ...   \n",
       "195         adam                     0.07                       22   \n",
       "196          sgd                     0.01                       17   \n",
       "197         adam                     0.09                       22   \n",
       "198          sgd                     0.03                       25   \n",
       "199         adam                     0.07                       24   \n",
       "\n",
       "    param_alpha param_activation  \\\n",
       "0        0.0001             tanh   \n",
       "1           0.1             relu   \n",
       "2         0.001             relu   \n",
       "3        0.0001         logistic   \n",
       "4         0.001             tanh   \n",
       "..          ...              ...   \n",
       "195       0.001             tanh   \n",
       "196      0.0001             tanh   \n",
       "197        0.01             relu   \n",
       "198        0.01             relu   \n",
       "199        0.01             relu   \n",
       "\n",
       "                                                params  split0_test_score  \\\n",
       "0    {'solver': 'adam', 'learning_rate_init': 0.089...           0.600489   \n",
       "1    {'solver': 'sgd', 'learning_rate_init': 0.01, ...           0.676737   \n",
       "2    {'solver': 'sgd', 'learning_rate_init': 0.03, ...           0.673177   \n",
       "3    {'solver': 'adam', 'learning_rate_init': 0.01,...           0.680272   \n",
       "4    {'solver': 'adam', 'learning_rate_init': 0.049...           0.681042   \n",
       "..                                                 ...                ...   \n",
       "195  {'solver': 'adam', 'learning_rate_init': 0.069...           0.637897   \n",
       "196  {'solver': 'sgd', 'learning_rate_init': 0.01, ...           0.670177   \n",
       "197  {'solver': 'adam', 'learning_rate_init': 0.089...           0.666873   \n",
       "198  {'solver': 'sgd', 'learning_rate_init': 0.03, ...           0.678219   \n",
       "199  {'solver': 'adam', 'learning_rate_init': 0.069...           0.657927   \n",
       "\n",
       "     split1_test_score  split2_test_score  split3_test_score  \\\n",
       "0             0.668643           0.655532           0.535918   \n",
       "1             0.652390           0.654332           0.653509   \n",
       "2             0.654867           0.655970           0.663203   \n",
       "3             0.650227           0.652228           0.658831   \n",
       "4             0.617745           0.633900           0.653126   \n",
       "..                 ...                ...                ...   \n",
       "195           0.622208           0.652530           0.664464   \n",
       "196           0.660302           0.664055           0.659341   \n",
       "197           0.613636           0.653650           0.615078   \n",
       "198           0.663268           0.654188           0.653652   \n",
       "199           0.660753           0.657982           0.616056   \n",
       "\n",
       "     split4_test_score  mean_test_score  std_test_score  rank_test_score  \n",
       "0             0.666667         0.625450        0.051202              198  \n",
       "1             0.670762         0.661546        0.010160              122  \n",
       "2             0.663272         0.662098        0.006560              117  \n",
       "3             0.673244         0.662960        0.011831              104  \n",
       "4             0.663766         0.649916        0.022192              179  \n",
       "..                 ...              ...             ...              ...  \n",
       "195           0.655395         0.646499        0.014848              187  \n",
       "196           0.670545         0.664884        0.004743               69  \n",
       "197           0.668874         0.643622        0.024465              191  \n",
       "198           0.674137         0.664693        0.010064               72  \n",
       "199           0.620408         0.642625        0.019990              193  \n",
       "\n",
       "[200 rows x 18 columns]"
      ]
     },
     "execution_count": 76,
     "metadata": {},
     "output_type": "execute_result"
    }
   ],
   "source": [
    "# cv results\n",
    "cv_results = pd.DataFrame(rs_cv.cv_results_)\n",
    "cv_results"
   ]
  },
  {
   "cell_type": "code",
   "execution_count": 77,
   "metadata": {},
   "outputs": [
    {
     "name": "stdout",
     "output_type": "stream",
     "text": [
      "Best F-1 Score:  0.6753326703454647\n",
      "It was achieved using the following hyper-parameters: \n",
      "{'solver': 'sgd', 'learning_rate_init': 0.08999999999999998, 'hidden_layer_sizes': 23, 'alpha': 0.1, 'activation': 'relu'}\n"
     ]
    }
   ],
   "source": [
    "# printing the optimal accuracy score and hyperparameters\n",
    "print(\"Best F-1 Score: \", rs_cv.best_score_)\n",
    "print(\"It was achieved using the following hyper-parameters: \")\n",
    "print(rs_cv.best_params_)"
   ]
  },
  {
   "cell_type": "markdown",
   "metadata": {},
   "source": [
    "<h3>Creating a model using the best hyper-parameters: <h3>"
   ]
  },
  {
   "cell_type": "code",
   "execution_count": 78,
   "metadata": {},
   "outputs": [],
   "source": [
    "mlp_tuned = MLPClassifier(hidden_layer_sizes=(23)  ,solver='sgd', learning_rate_init=0.09, alpha=0.1, activation='relu')"
   ]
  },
  {
   "cell_type": "code",
   "execution_count": 79,
   "metadata": {},
   "outputs": [
    {
     "data": {
      "text/plain": [
       "MLPClassifier(alpha=0.1, hidden_layer_sizes=23, learning_rate_init=0.09,\n",
       "              solver='sgd')"
      ]
     },
     "execution_count": 79,
     "metadata": {},
     "output_type": "execute_result"
    }
   ],
   "source": [
    "mlp_tuned.fit(x_train, y_train)"
   ]
  },
  {
   "cell_type": "markdown",
   "metadata": {},
   "source": [
    "see the result on the train set"
   ]
  },
  {
   "cell_type": "code",
   "execution_count": 83,
   "metadata": {
    "scrolled": true
   },
   "outputs": [
    {
     "name": "stdout",
     "output_type": "stream",
     "text": [
      "              precision    recall  f1-score   support\n",
      "\n",
      "           0       0.88      0.93      0.90     27178\n",
      "           1       0.74      0.63      0.68      8962\n",
      "\n",
      "    accuracy                           0.85     36140\n",
      "   macro avg       0.81      0.78      0.79     36140\n",
      "weighted avg       0.85      0.85      0.85     36140\n",
      "\n"
     ]
    }
   ],
   "source": [
    "y_pred_train = mlp_tuned.predict(x_train)\n",
    "print(classification_report(y_train, y_pred_train))"
   ]
  },
  {
   "cell_type": "markdown",
   "metadata": {},
   "source": [
    "See the result on the test set"
   ]
  },
  {
   "cell_type": "code",
   "execution_count": 84,
   "metadata": {
    "scrolled": true
   },
   "outputs": [
    {
     "name": "stdout",
     "output_type": "stream",
     "text": [
      "              precision    recall  f1-score   support\n",
      "\n",
      "           0       0.89      0.93      0.91      6795\n",
      "           1       0.75      0.64      0.69      2240\n",
      "\n",
      "    accuracy                           0.86      9035\n",
      "   macro avg       0.82      0.78      0.80      9035\n",
      "weighted avg       0.85      0.86      0.85      9035\n",
      "\n"
     ]
    }
   ],
   "source": [
    "y_pred_test = mlp_tuned.predict(x_test)\n",
    "print(classification_report(y_test, y_pred_test))"
   ]
  },
  {
   "cell_type": "markdown",
   "metadata": {},
   "source": [
    "Both test set and train set shows similar results, with the test set performing slightly better thus indicating that there is no overfitting."
   ]
  },
  {
   "cell_type": "markdown",
   "metadata": {},
   "source": [
    "Plot the confusion matrix on the test set "
   ]
  },
  {
   "cell_type": "code",
   "execution_count": 85,
   "metadata": {},
   "outputs": [
    {
     "name": "stderr",
     "output_type": "stream",
     "text": [
      "C:\\environment\\Anaconda\\envs\\ml\\lib\\site-packages\\sklearn\\utils\\deprecation.py:87: FutureWarning: Function plot_confusion_matrix is deprecated; Function `plot_confusion_matrix` is deprecated in 1.0 and will be removed in 1.2. Use one of the class methods: ConfusionMatrixDisplay.from_predictions or ConfusionMatrixDisplay.from_estimator.\n",
      "  warnings.warn(msg, category=FutureWarning)\n"
     ]
    },
    {
     "data": {
      "image/png": "[encoded data removed]",
      "text/plain": [
       "<Figure size 432x288 with 2 Axes>"
      ]
     },
     "metadata": {
      "needs_background": "light"
     },
     "output_type": "display_data"
    }
   ],
   "source": [
    "plot_confusion_matrix(mlp_tuned, x_test, y_test)\n",
    "plt.show()"
   ]
  },
  {
   "cell_type": "markdown",
   "metadata": {},
   "source": [
    "Plot the loss curve"
   ]
  },
  {
   "cell_type": "code",
   "execution_count": 86,
   "metadata": {},
   "outputs": [
    {
     "data": {
      "image/png": "[encoded data removed]",
      "text/plain": [
       "<Figure size 432x288 with 1 Axes>"
      ]
     },
     "metadata": {
      "needs_background": "light"
     },
     "output_type": "display_data"
    }
   ],
   "source": [
    "plt.plot(mlp_tuned.loss_curve_)\n",
    "plt.title(\"Loss Curve\", fontsize=14)\n",
    "plt.xlabel('Iterations')\n",
    "plt.ylabel('Cost')\n",
    "plt.show()"
   ]
  },
  {
   "cell_type": "markdown",
   "metadata": {},
   "source": [
    "Taking final weight of each row into account and calculate the precision, recall and f1 score of the minority class"
   ]
  },
  {
   "cell_type": "code",
   "execution_count": 87,
   "metadata": {},
   "outputs": [],
   "source": [
    "#precision = true_positive / (true_positive + false_positive)\n",
    "#Recall = true_positive / (true_positive + false_negative)\n",
    "#f1= (2 * precision * recall) / (precision + recall)\n",
    "\n",
    "def calculate_weighted_classification(final_weight, y_pred_income, y_actual):\n",
    "    df = pd.DataFrame(final_weight)\n",
    "    df[\"Predicted_Income\"] = y_pred_income\n",
    "    df[\"Actual_Income\"] = y_actual\n",
    "    true_positive = 0\n",
    "    false_negatives = 0\n",
    "    false_positive = 0\n",
    "    for i in range(len(df)):\n",
    "        actual_income = df.iloc[i][\"Actual_Income\"]\n",
    "        predicted_income = df.iloc[i][\"Predicted_Income\"]\n",
    "        final_weight = df.iloc[i][\"Final Weight\"]\n",
    "        if actual_income == 1 and predicted_income == 1:\n",
    "            true_positive += final_weight\n",
    "        elif actual_income == 1 and predicted_income == 0:\n",
    "            false_negatives += final_weight\n",
    "        elif actual_income == 0 and predicted_income == 1:\n",
    "            false_positive += final_weight\n",
    "    precision = true_positive / (true_positive + false_positive)\n",
    "    recall = true_positive / (true_positive + false_negatives)\n",
    "    f1= (2 * precision * recall) / (precision + recall)\n",
    "    return precision, recall, f1"
   ]
  },
  {
   "cell_type": "code",
   "execution_count": 88,
   "metadata": {},
   "outputs": [
    {
     "name": "stdout",
     "output_type": "stream",
     "text": [
      "Weighted Precision: 0.7579628641681798\n",
      "Weighted Recall: 0.6417189072028622\n",
      "Weighted F1 Score: 0.6950138393499392\n"
     ]
    }
   ],
   "source": [
    "precision, recall, f1 = calculate_weighted_classification(final_weight_test, y_pred_test, y_test)\n",
    "print(f\"Weighted Precision: {precision}\")\n",
    "print(f\"Weighted Recall: {recall}\")\n",
    "print(f\"Weighted F1 Score: {f1}\")"
   ]
  },
  {
   "cell_type": "markdown",
   "metadata": {},
   "source": [
    "Exporting the tuned model"
   ]
  },
  {
   "cell_type": "code",
   "execution_count": 92,
   "metadata": {},
   "outputs": [],
   "source": [
    "# exports the trained mlp classifer model to file with file name \"mlp.obj\"\n",
    "import pickle\n",
    "mlp_model = open('mlp.obj', 'wb')\n",
    "pickle.dump(mlp_tuned, mlp_model)"
   ]
  }
 ],
 "metadata": {
  "interpreter": {
   "hash": "baeddd532b77911fe4d559921dd2392f1bad4fb44f01d2fc64e71d48034915bf"
  },
  "kernelspec": {
   "display_name": "Python 3 (ipykernel)",
   "language": "python",
   "name": "python3"
  },
  "language_info": {
   "codemirror_mode": {
    "name": "ipython",
    "version": 3
   },
   "file_extension": ".py",
   "mimetype": "text/x-python",
   "name": "python",
   "nbconvert_exporter": "python",
   "pygments_lexer": "ipython3",
   "version": "3.8.12"
  }
 },
 "nbformat": 4,
 "nbformat_minor": 2
}
